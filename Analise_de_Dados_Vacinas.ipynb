{
  "nbformat": 4,
  "nbformat_minor": 5,
  "metadata": {
    "kernelspec": {
      "display_name": "Python 3",
      "language": "python",
      "name": "python3"
    },
    "language_info": {
      "codemirror_mode": {
        "name": "ipython",
        "version": 3
      },
      "file_extension": ".py",
      "mimetype": "text/x-python",
      "name": "python",
      "nbconvert_exporter": "python",
      "pygments_lexer": "ipython3",
      "version": "3.8.8"
    },
    "colab": {
      "name": "Analise_de_Dados_Vacinas.ipynb",
      "provenance": [],
      "collapsed_sections": [],
      "include_colab_link": true
    }
  },
  "cells": [
    {
      "cell_type": "markdown",
      "metadata": {
        "id": "view-in-github",
        "colab_type": "text"
      },
      "source": [
        "<a href=\"https://colab.research.google.com/github/JeostonJunior/Delivery-Cadastro-Clientes/blob/master/Analise_de_Dados_Vacinas.ipynb\" target=\"_parent\"><img src=\"https://colab.research.google.com/assets/colab-badge.svg\" alt=\"Open In Colab\"/></a>"
      ]
    },
    {
      "cell_type": "markdown",
      "metadata": {
        "id": "9b5f2d28"
      },
      "source": [
        "# ANALISE DE VACINAS.XLSX"
      ],
      "id": "9b5f2d28"
    },
    {
      "cell_type": "markdown",
      "metadata": {
        "id": "a17dfdfa"
      },
      "source": [
        "CLASSE GERAL - TRATAMENTO E ESTATÍSTICAS DOS DADOS"
      ],
      "id": "a17dfdfa"
    },
    {
      "cell_type": "code",
      "metadata": {
        "colab": {
          "base_uri": "https://localhost:8080/",
          "height": 521
        },
        "id": "11581b22",
        "outputId": "753c5135-e978-4bb5-f3f5-33191802ac91"
      },
      "source": [
        "import pandas as pd\n",
        "import matplotlib.pyplot as plt\n",
        "\n",
        "class Vacinas:\n",
        "    \n",
        "    def __init__(self, dado):\n",
        "        self.__dado = dado\n",
        "        tratar = self.__dado['Município'and 'Fabricante'] != '-'\n",
        "        self.__dado = self.__dado[tratar]\n",
        "        display(self.__dado)\n",
        "\n",
        "    def soma_dose(self, doses):\n",
        "        return self.__dado[doses].sum()\n",
        "    \n",
        "    def regiao_doses(self, dose):\n",
        "        return (self.__dado[['Região', dose]].groupby('Região').sum())\n",
        "        \n",
        "    def regiao_estado(self, regiao, estado, doses):\n",
        "        return self.__dado[[regiao, estado, doses]].groupby(['Região','UF']).sum()\n",
        "    \n",
        "    def soma_estado(self, estado, doses):\n",
        "        return self.__dado[[estado, doses]].groupby(['UF']).sum()\n",
        "\n",
        "    def soma_municipios(self, municipio, doses):\n",
        "        return self.__dado[['UF','Cód. IBGE' , municipio, doses]].groupby(['UF','Cód. IBGE','Município']).sum()\n",
        "    \n",
        "    def doses_estado(self, estado, doses):\n",
        "        return self.__dado.loc[self.__dado['UF'] == estado, [doses]].sum()\n",
        "    \n",
        "    def total_capital(self, municipio, dose):\n",
        "        return self.__dado.loc[self.__dado['Município'] == municipio, [dose]].sum()      \n",
        "    \n",
        "    def capital(self, municipio, dose):\n",
        "        return self.__dado.loc[self.__dado['Município'] == municipio, ['Município', 'Fabricante', dose]]\n",
        "                     \n",
        "    def media_doses_estado(self, estado, dose):\n",
        "        return round(self.__dado.loc[self.__dado['UF'] == estado, [dose]].mean(), 1)\n",
        "    \n",
        "    def media_estado_dose2(self, estado):\n",
        "        return round(self.__dado[[estado, 'Dose 2']].mean(), 1)\n",
        "       \n",
        "    def media_estado_geral(self):\n",
        "        return round(self.__dado[['UF', 'Dose 2']].groupby(['UF']).mean(), 1)\n",
        "    \n",
        "    def media_estado_geral1(self):\n",
        "        return round(self.__dado[['UF', 'Dose 1']].groupby(['UF']).mean(), 1)\n",
        "    \n",
        "    def media_estado(self, estado):\n",
        "        return round(self.__dado[[estado,'Dose 1', 'Dose 2']].mean(), 1)\n",
        "    \n",
        "    def media_doses_municipio(self, municipio, dose):\n",
        "        return round(self.__dado.loc[self.__dado['Município'] == municipio, [dose]].mean(), 1)\n",
        "    \n",
        "    def max_municipio(self, estado):\n",
        "        maior_dose = self.__dado.loc[self.__dado['UF'] == estado]\n",
        "        maior_dose = maior_dose[['Município', 'Dose 2']].groupby('Município').sum()\n",
        "        maior_dose = maior_dose.idxmax(axis=0).iloc[0]\n",
        "        return maior_dose\n",
        "    \n",
        "    def min_municipio(self, estado):\n",
        "        menor_dose = self.__dado.loc[self.__dado['UF'] == estado]\n",
        "        menor_dose = menor_dose[['Município', 'Dose 2']].groupby('Município').sum()\n",
        "        menor_dose = menor_dose.idxmin(axis=0).iloc[0]\n",
        "        return menor_dose\n",
        "    \n",
        "    def max_fabricante(self, estado):\n",
        "        maior_fabricante = self.__dado.loc[self.__dado['UF'] == estado]\n",
        "        maior_fabricante = maior_fabricante[['Fabricante', 'Doses Aplicadas']].groupby('Fabricante').sum()\n",
        "        maior_fabricante = maior_fabricante.idxmax(axis=0).iloc[0]\n",
        "        return maior_fabricante\n",
        "    \n",
        "    def min_fabricante(self, estado):\n",
        "        menor_fabricante = self.__dado.loc[self.__dado['UF'] == estado]\n",
        "        menor_fabricante = menor_fabricante[['Fabricante', 'Doses Aplicadas']].groupby('Fabricante').sum()\n",
        "        menor_fabricante = menor_fabricante.idxmin(axis=0).iloc[0]\n",
        "        return menor_fabricante\n",
        "    \n",
        "    \n",
        "vacina = Vacinas(pd.read_excel('vacinas.xlsx'))\n",
        "\n",
        "\n",
        "\n",
        "#display(vacina.doses(\"Dose 1\"))\n",
        "#display(vacina.regioes('Região', \"Doses Aplicadas\"))\n",
        "#display(vacina.regiao_doses('Região', \"Doses Aplicadas\")) \n",
        "#display(vacina.regiao_estado('Região','UF', \"Doses Aplicadas\"))\n",
        "#display(vacina.estado('UF', \"Doses Aplicadas\"))\n",
        "#display(vacina.estado('UF', \"Dose 1\"))\n",
        "#display(vacina.municipios('UF','Cód. IBGE','Município','Doses Aplicadas'))\n",
        "#display(vacina.municipios('UF','Cód. IBGE','Município','Dose 1'))\n",
        "#display(vacina.media_doses_estado('BA', 'Dose 1'))\n",
        "#display(vacina.media_estado('UF'))\n",
        "#display(vacina.media_estado_dose2('UF'))\n",
        "#display(vacina.media_doses_municipio('Salvador', 'Dose 1'))\n",
        "#display(vacina.min_municipio('BA'))\n",
        "#display(vacina.max_municipio('BA'))\n",
        "#display(vacina.max_fabricante('BA'))\n",
        "#display(vacina.total_capital('Salvador', 'Doses Aplicadas'))\n",
        "\n",
        "\n",
        "\n",
        "\n",
        "        \n"
      ],
      "id": "11581b22",
      "execution_count": 1,
      "outputs": [
        {
          "output_type": "display_data",
          "data": {
            "text/html": [
              "<div>\n",
              "<style scoped>\n",
              "    .dataframe tbody tr th:only-of-type {\n",
              "        vertical-align: middle;\n",
              "    }\n",
              "\n",
              "    .dataframe tbody tr th {\n",
              "        vertical-align: top;\n",
              "    }\n",
              "\n",
              "    .dataframe thead th {\n",
              "        text-align: right;\n",
              "    }\n",
              "</style>\n",
              "<table border=\"1\" class=\"dataframe\">\n",
              "  <thead>\n",
              "    <tr style=\"text-align: right;\">\n",
              "      <th></th>\n",
              "      <th>Município</th>\n",
              "      <th>Cód. IBGE</th>\n",
              "      <th>UF</th>\n",
              "      <th>Região</th>\n",
              "      <th>Fabricante</th>\n",
              "      <th>Doses Aplicadas</th>\n",
              "      <th>Dose 1</th>\n",
              "      <th>Dose 2</th>\n",
              "    </tr>\n",
              "  </thead>\n",
              "  <tbody>\n",
              "    <tr>\n",
              "      <th>0</th>\n",
              "      <td>Abadia De Goiás</td>\n",
              "      <td>520005</td>\n",
              "      <td>GO</td>\n",
              "      <td>Centro-Oeste</td>\n",
              "      <td>FIOCRUZ/ASTRAZENECA</td>\n",
              "      <td>3560</td>\n",
              "      <td>2633</td>\n",
              "      <td>927</td>\n",
              "    </tr>\n",
              "    <tr>\n",
              "      <th>1</th>\n",
              "      <td>Abadia De Goiás</td>\n",
              "      <td>520005</td>\n",
              "      <td>GO</td>\n",
              "      <td>Centro-Oeste</td>\n",
              "      <td>BUTANTAN/SINOVAC</td>\n",
              "      <td>3125</td>\n",
              "      <td>1682</td>\n",
              "      <td>1443</td>\n",
              "    </tr>\n",
              "    <tr>\n",
              "      <th>2</th>\n",
              "      <td>Abadia De Goiás</td>\n",
              "      <td>520005</td>\n",
              "      <td>GO</td>\n",
              "      <td>Centro-Oeste</td>\n",
              "      <td>PFIZER/BIONTECH</td>\n",
              "      <td>1297</td>\n",
              "      <td>1297</td>\n",
              "      <td>0</td>\n",
              "    </tr>\n",
              "    <tr>\n",
              "      <th>3</th>\n",
              "      <td>Abadia De Goiás</td>\n",
              "      <td>520005</td>\n",
              "      <td>GO</td>\n",
              "      <td>Centro-Oeste</td>\n",
              "      <td>JANSSEN</td>\n",
              "      <td>65</td>\n",
              "      <td>0</td>\n",
              "      <td>0</td>\n",
              "    </tr>\n",
              "    <tr>\n",
              "      <th>4</th>\n",
              "      <td>Abadia Dos Dourados</td>\n",
              "      <td>310010</td>\n",
              "      <td>MG</td>\n",
              "      <td>Sudeste</td>\n",
              "      <td>FIOCRUZ/ASTRAZENECA</td>\n",
              "      <td>3624</td>\n",
              "      <td>2711</td>\n",
              "      <td>913</td>\n",
              "    </tr>\n",
              "    <tr>\n",
              "      <th>...</th>\n",
              "      <td>...</td>\n",
              "      <td>...</td>\n",
              "      <td>...</td>\n",
              "      <td>...</td>\n",
              "      <td>...</td>\n",
              "      <td>...</td>\n",
              "      <td>...</td>\n",
              "      <td>...</td>\n",
              "    </tr>\n",
              "    <tr>\n",
              "      <th>21878</th>\n",
              "      <td>Zé Doca</td>\n",
              "      <td>211400</td>\n",
              "      <td>MA</td>\n",
              "      <td>Nordeste</td>\n",
              "      <td>JANSSEN</td>\n",
              "      <td>362</td>\n",
              "      <td>0</td>\n",
              "      <td>0</td>\n",
              "    </tr>\n",
              "    <tr>\n",
              "      <th>21879</th>\n",
              "      <td>Zortéa</td>\n",
              "      <td>421985</td>\n",
              "      <td>SC</td>\n",
              "      <td>Sul</td>\n",
              "      <td>FIOCRUZ/ASTRAZENECA</td>\n",
              "      <td>1483</td>\n",
              "      <td>928</td>\n",
              "      <td>555</td>\n",
              "    </tr>\n",
              "    <tr>\n",
              "      <th>21880</th>\n",
              "      <td>Zortéa</td>\n",
              "      <td>421985</td>\n",
              "      <td>SC</td>\n",
              "      <td>Sul</td>\n",
              "      <td>BUTANTAN/SINOVAC</td>\n",
              "      <td>1200</td>\n",
              "      <td>706</td>\n",
              "      <td>494</td>\n",
              "    </tr>\n",
              "    <tr>\n",
              "      <th>21881</th>\n",
              "      <td>Zortéa</td>\n",
              "      <td>421985</td>\n",
              "      <td>SC</td>\n",
              "      <td>Sul</td>\n",
              "      <td>PFIZER/BIONTECH</td>\n",
              "      <td>855</td>\n",
              "      <td>854</td>\n",
              "      <td>1</td>\n",
              "    </tr>\n",
              "    <tr>\n",
              "      <th>21882</th>\n",
              "      <td>Zortéa</td>\n",
              "      <td>421985</td>\n",
              "      <td>SC</td>\n",
              "      <td>Sul</td>\n",
              "      <td>JANSSEN</td>\n",
              "      <td>110</td>\n",
              "      <td>0</td>\n",
              "      <td>0</td>\n",
              "    </tr>\n",
              "  </tbody>\n",
              "</table>\n",
              "<p>21870 rows × 8 columns</p>\n",
              "</div>"
            ],
            "text/plain": [
              "                 Município  Cód. IBGE  UF  ... Doses Aplicadas Dose 1  Dose 2\n",
              "0          Abadia De Goiás     520005  GO  ...            3560   2633     927\n",
              "1          Abadia De Goiás     520005  GO  ...            3125   1682    1443\n",
              "2          Abadia De Goiás     520005  GO  ...            1297   1297       0\n",
              "3          Abadia De Goiás     520005  GO  ...              65      0       0\n",
              "4      Abadia Dos Dourados     310010  MG  ...            3624   2711     913\n",
              "...                    ...        ...  ..  ...             ...    ...     ...\n",
              "21878              Zé Doca     211400  MA  ...             362      0       0\n",
              "21879               Zortéa     421985  SC  ...            1483    928     555\n",
              "21880               Zortéa     421985  SC  ...            1200    706     494\n",
              "21881               Zortéa     421985  SC  ...             855    854       1\n",
              "21882               Zortéa     421985  SC  ...             110      0       0\n",
              "\n",
              "[21870 rows x 8 columns]"
            ]
          },
          "metadata": {}
        }
      ]
    },
    {
      "cell_type": "code",
      "metadata": {
        "colab": {
          "base_uri": "https://localhost:8080/",
          "height": 521
        },
        "id": "498fc099",
        "outputId": "87b18ce3-5ee3-4c1f-c809-843599b367c2"
      },
      "source": [
        "class Grafico(Vacinas):\n",
        "    def __init__(self, dado):\n",
        "        super().__init__(dado)\n",
        "        self.__dado = dado\n",
        "      \n",
        "        \n",
        "    def codigo_capital(self, dose):\n",
        "        codigo_capital = [110020,130260,120040,500270,160030,530010,140010,510340,172100,355030,221100,330455,150140,520870,292740,420540,\n",
        "                 211130,270430,431490,410690,310620,230440,261160,250750,280030,240810,320530]\n",
        "        \n",
        "        capital = self.__dado[self.__dado['Cód. IBGE'].isin(codigo_capital)]\n",
        "\n",
        "        capital = capital[['Município', dose]].groupby(['Município']).sum()\n",
        "        return capital\n",
        "    \n",
        "    def capitais(self, municipio):\n",
        "        codigo_capital = [110020,130260,120040,500270,160030,530010,140010,510340,172100,355030,221100,330455,150140,520870,292740,420540,\n",
        "                 211130,270430,431490,410690,310620,230440,261160,250750,280030,240810,320530]\n",
        "        \n",
        "        capital = self.__dado[self.__dado['Cód. IBGE'].isin(codigo_capital)]\n",
        "        capital = capital[['Município']].groupby([municipio]).sum()\n",
        "        return capital\n",
        "    \n",
        "    def regiao_doses(self, dose):\n",
        "        return (self.__dado[['Região', dose]].groupby('Região').sum())\n",
        "    \n",
        "    def media_estado_geral(self):\n",
        "        return round(self.__dado[['UF', 'Dose 2']].groupby(['UF']).mean(), 1)\n",
        "    \n",
        "    def media_estado_geral1(self):\n",
        "        return round(self.__dado[['UF', 'Dose 1']].groupby(['UF']).mean(), 1)\n",
        "    \n",
        "            \n",
        "\n",
        "grafico = Grafico(pd.read_excel('vacinas.xlsx'))\n"
      ],
      "id": "498fc099",
      "execution_count": 2,
      "outputs": [
        {
          "output_type": "display_data",
          "data": {
            "text/html": [
              "<div>\n",
              "<style scoped>\n",
              "    .dataframe tbody tr th:only-of-type {\n",
              "        vertical-align: middle;\n",
              "    }\n",
              "\n",
              "    .dataframe tbody tr th {\n",
              "        vertical-align: top;\n",
              "    }\n",
              "\n",
              "    .dataframe thead th {\n",
              "        text-align: right;\n",
              "    }\n",
              "</style>\n",
              "<table border=\"1\" class=\"dataframe\">\n",
              "  <thead>\n",
              "    <tr style=\"text-align: right;\">\n",
              "      <th></th>\n",
              "      <th>Município</th>\n",
              "      <th>Cód. IBGE</th>\n",
              "      <th>UF</th>\n",
              "      <th>Região</th>\n",
              "      <th>Fabricante</th>\n",
              "      <th>Doses Aplicadas</th>\n",
              "      <th>Dose 1</th>\n",
              "      <th>Dose 2</th>\n",
              "    </tr>\n",
              "  </thead>\n",
              "  <tbody>\n",
              "    <tr>\n",
              "      <th>0</th>\n",
              "      <td>Abadia De Goiás</td>\n",
              "      <td>520005</td>\n",
              "      <td>GO</td>\n",
              "      <td>Centro-Oeste</td>\n",
              "      <td>FIOCRUZ/ASTRAZENECA</td>\n",
              "      <td>3560</td>\n",
              "      <td>2633</td>\n",
              "      <td>927</td>\n",
              "    </tr>\n",
              "    <tr>\n",
              "      <th>1</th>\n",
              "      <td>Abadia De Goiás</td>\n",
              "      <td>520005</td>\n",
              "      <td>GO</td>\n",
              "      <td>Centro-Oeste</td>\n",
              "      <td>BUTANTAN/SINOVAC</td>\n",
              "      <td>3125</td>\n",
              "      <td>1682</td>\n",
              "      <td>1443</td>\n",
              "    </tr>\n",
              "    <tr>\n",
              "      <th>2</th>\n",
              "      <td>Abadia De Goiás</td>\n",
              "      <td>520005</td>\n",
              "      <td>GO</td>\n",
              "      <td>Centro-Oeste</td>\n",
              "      <td>PFIZER/BIONTECH</td>\n",
              "      <td>1297</td>\n",
              "      <td>1297</td>\n",
              "      <td>0</td>\n",
              "    </tr>\n",
              "    <tr>\n",
              "      <th>3</th>\n",
              "      <td>Abadia De Goiás</td>\n",
              "      <td>520005</td>\n",
              "      <td>GO</td>\n",
              "      <td>Centro-Oeste</td>\n",
              "      <td>JANSSEN</td>\n",
              "      <td>65</td>\n",
              "      <td>0</td>\n",
              "      <td>0</td>\n",
              "    </tr>\n",
              "    <tr>\n",
              "      <th>4</th>\n",
              "      <td>Abadia Dos Dourados</td>\n",
              "      <td>310010</td>\n",
              "      <td>MG</td>\n",
              "      <td>Sudeste</td>\n",
              "      <td>FIOCRUZ/ASTRAZENECA</td>\n",
              "      <td>3624</td>\n",
              "      <td>2711</td>\n",
              "      <td>913</td>\n",
              "    </tr>\n",
              "    <tr>\n",
              "      <th>...</th>\n",
              "      <td>...</td>\n",
              "      <td>...</td>\n",
              "      <td>...</td>\n",
              "      <td>...</td>\n",
              "      <td>...</td>\n",
              "      <td>...</td>\n",
              "      <td>...</td>\n",
              "      <td>...</td>\n",
              "    </tr>\n",
              "    <tr>\n",
              "      <th>21878</th>\n",
              "      <td>Zé Doca</td>\n",
              "      <td>211400</td>\n",
              "      <td>MA</td>\n",
              "      <td>Nordeste</td>\n",
              "      <td>JANSSEN</td>\n",
              "      <td>362</td>\n",
              "      <td>0</td>\n",
              "      <td>0</td>\n",
              "    </tr>\n",
              "    <tr>\n",
              "      <th>21879</th>\n",
              "      <td>Zortéa</td>\n",
              "      <td>421985</td>\n",
              "      <td>SC</td>\n",
              "      <td>Sul</td>\n",
              "      <td>FIOCRUZ/ASTRAZENECA</td>\n",
              "      <td>1483</td>\n",
              "      <td>928</td>\n",
              "      <td>555</td>\n",
              "    </tr>\n",
              "    <tr>\n",
              "      <th>21880</th>\n",
              "      <td>Zortéa</td>\n",
              "      <td>421985</td>\n",
              "      <td>SC</td>\n",
              "      <td>Sul</td>\n",
              "      <td>BUTANTAN/SINOVAC</td>\n",
              "      <td>1200</td>\n",
              "      <td>706</td>\n",
              "      <td>494</td>\n",
              "    </tr>\n",
              "    <tr>\n",
              "      <th>21881</th>\n",
              "      <td>Zortéa</td>\n",
              "      <td>421985</td>\n",
              "      <td>SC</td>\n",
              "      <td>Sul</td>\n",
              "      <td>PFIZER/BIONTECH</td>\n",
              "      <td>855</td>\n",
              "      <td>854</td>\n",
              "      <td>1</td>\n",
              "    </tr>\n",
              "    <tr>\n",
              "      <th>21882</th>\n",
              "      <td>Zortéa</td>\n",
              "      <td>421985</td>\n",
              "      <td>SC</td>\n",
              "      <td>Sul</td>\n",
              "      <td>JANSSEN</td>\n",
              "      <td>110</td>\n",
              "      <td>0</td>\n",
              "      <td>0</td>\n",
              "    </tr>\n",
              "  </tbody>\n",
              "</table>\n",
              "<p>21870 rows × 8 columns</p>\n",
              "</div>"
            ],
            "text/plain": [
              "                 Município  Cód. IBGE  UF  ... Doses Aplicadas Dose 1  Dose 2\n",
              "0          Abadia De Goiás     520005  GO  ...            3560   2633     927\n",
              "1          Abadia De Goiás     520005  GO  ...            3125   1682    1443\n",
              "2          Abadia De Goiás     520005  GO  ...            1297   1297       0\n",
              "3          Abadia De Goiás     520005  GO  ...              65      0       0\n",
              "4      Abadia Dos Dourados     310010  MG  ...            3624   2711     913\n",
              "...                    ...        ...  ..  ...             ...    ...     ...\n",
              "21878              Zé Doca     211400  MA  ...             362      0       0\n",
              "21879               Zortéa     421985  SC  ...            1483    928     555\n",
              "21880               Zortéa     421985  SC  ...            1200    706     494\n",
              "21881               Zortéa     421985  SC  ...             855    854       1\n",
              "21882               Zortéa     421985  SC  ...             110      0       0\n",
              "\n",
              "[21870 rows x 8 columns]"
            ]
          },
          "metadata": {}
        }
      ]
    },
    {
      "cell_type": "code",
      "metadata": {
        "colab": {
          "base_uri": "https://localhost:8080/",
          "height": 34
        },
        "id": "Z2pYX7Fdz6b0",
        "outputId": "0342b7f3-b06f-44c6-940e-ba241bd9be10"
      },
      "source": [
        "display(vacina.media_estado_geral)"
      ],
      "id": "Z2pYX7Fdz6b0",
      "execution_count": 3,
      "outputs": [
        {
          "output_type": "display_data",
          "data": {
            "text/plain": [
              "<bound method Vacinas.media_estado_geral of <__main__.Vacinas object at 0x7f84bfa870d0>>"
            ]
          },
          "metadata": {}
        }
      ]
    },
    {
      "cell_type": "code",
      "metadata": {
        "colab": {
          "base_uri": "https://localhost:8080/",
          "height": 297
        },
        "id": "OVa1b-0LubEI",
        "outputId": "4f6b79be-324b-4be7-e083-98d86c54ff96"
      },
      "source": [
        "display(vacina.capital('Rio Branco','Dose 1'))"
      ],
      "id": "OVa1b-0LubEI",
      "execution_count": 4,
      "outputs": [
        {
          "output_type": "display_data",
          "data": {
            "text/html": [
              "<div>\n",
              "<style scoped>\n",
              "    .dataframe tbody tr th:only-of-type {\n",
              "        vertical-align: middle;\n",
              "    }\n",
              "\n",
              "    .dataframe tbody tr th {\n",
              "        vertical-align: top;\n",
              "    }\n",
              "\n",
              "    .dataframe thead th {\n",
              "        text-align: right;\n",
              "    }\n",
              "</style>\n",
              "<table border=\"1\" class=\"dataframe\">\n",
              "  <thead>\n",
              "    <tr style=\"text-align: right;\">\n",
              "      <th></th>\n",
              "      <th>Município</th>\n",
              "      <th>Fabricante</th>\n",
              "      <th>Dose 1</th>\n",
              "    </tr>\n",
              "  </thead>\n",
              "  <tbody>\n",
              "    <tr>\n",
              "      <th>16464</th>\n",
              "      <td>Rio Branco</td>\n",
              "      <td>FIOCRUZ/ASTRAZENECA</td>\n",
              "      <td>104902</td>\n",
              "    </tr>\n",
              "    <tr>\n",
              "      <th>16465</th>\n",
              "      <td>Rio Branco</td>\n",
              "      <td>PFIZER/BIONTECH</td>\n",
              "      <td>88558</td>\n",
              "    </tr>\n",
              "    <tr>\n",
              "      <th>16466</th>\n",
              "      <td>Rio Branco</td>\n",
              "      <td>BUTANTAN/SINOVAC</td>\n",
              "      <td>31144</td>\n",
              "    </tr>\n",
              "    <tr>\n",
              "      <th>16467</th>\n",
              "      <td>Rio Branco</td>\n",
              "      <td>JANSSEN</td>\n",
              "      <td>0</td>\n",
              "    </tr>\n",
              "    <tr>\n",
              "      <th>16468</th>\n",
              "      <td>Rio Branco</td>\n",
              "      <td>FIOCRUZ/ASTRAZENECA</td>\n",
              "      <td>2413</td>\n",
              "    </tr>\n",
              "    <tr>\n",
              "      <th>16469</th>\n",
              "      <td>Rio Branco</td>\n",
              "      <td>BUTANTAN/SINOVAC</td>\n",
              "      <td>558</td>\n",
              "    </tr>\n",
              "    <tr>\n",
              "      <th>16470</th>\n",
              "      <td>Rio Branco</td>\n",
              "      <td>PFIZER/BIONTECH</td>\n",
              "      <td>326</td>\n",
              "    </tr>\n",
              "    <tr>\n",
              "      <th>16471</th>\n",
              "      <td>Rio Branco</td>\n",
              "      <td>JANSSEN</td>\n",
              "      <td>0</td>\n",
              "    </tr>\n",
              "  </tbody>\n",
              "</table>\n",
              "</div>"
            ],
            "text/plain": [
              "        Município           Fabricante  Dose 1\n",
              "16464  Rio Branco  FIOCRUZ/ASTRAZENECA  104902\n",
              "16465  Rio Branco      PFIZER/BIONTECH   88558\n",
              "16466  Rio Branco     BUTANTAN/SINOVAC   31144\n",
              "16467  Rio Branco              JANSSEN       0\n",
              "16468  Rio Branco  FIOCRUZ/ASTRAZENECA    2413\n",
              "16469  Rio Branco     BUTANTAN/SINOVAC     558\n",
              "16470  Rio Branco      PFIZER/BIONTECH     326\n",
              "16471  Rio Branco              JANSSEN       0"
            ]
          },
          "metadata": {}
        }
      ]
    },
    {
      "cell_type": "markdown",
      "metadata": {
        "id": "2184fd85"
      },
      "source": [
        "SOMA DE TODAS DOSES APLICADAS NO PAÍS"
      ],
      "id": "2184fd85"
    },
    {
      "cell_type": "code",
      "metadata": {
        "colab": {
          "base_uri": "https://localhost:8080/",
          "height": 34
        },
        "id": "402a8c11",
        "outputId": "046b54b9-94c5-4090-a16c-22ebccfd22f0"
      },
      "source": [
        "#Função doses - Soma das doses aplicadas no país\n",
        "display(vacina.soma_dose(\"Dose 2\"))"
      ],
      "id": "402a8c11",
      "execution_count": 5,
      "outputs": [
        {
          "output_type": "display_data",
          "data": {
            "text/plain": [
              "53456717"
            ]
          },
          "metadata": {}
        }
      ]
    },
    {
      "cell_type": "markdown",
      "metadata": {
        "id": "2b9ae592"
      },
      "source": [
        "TOTAL PRIMEIRA DOSE APLICADA NO PAÍS"
      ],
      "id": "2b9ae592"
    },
    {
      "cell_type": "code",
      "metadata": {
        "colab": {
          "base_uri": "https://localhost:8080/",
          "height": 34
        },
        "id": "91ed4fcc",
        "outputId": "8f66723c-8bd4-4856-ee2e-5b36a2e02c0f"
      },
      "source": [
        "#Função doses - 1 e 2 doses no país\n",
        "display(vacina.soma_dose(\"Dose 1\"))\n",
        "    "
      ],
      "id": "91ed4fcc",
      "execution_count": 6,
      "outputs": [
        {
          "output_type": "display_data",
          "data": {
            "text/plain": [
              "124791669"
            ]
          },
          "metadata": {}
        }
      ]
    },
    {
      "cell_type": "markdown",
      "metadata": {
        "id": "2643229c"
      },
      "source": [
        "TOTAL SEGUNDA DOSE APLICADA NO PAÍS"
      ],
      "id": "2643229c"
    },
    {
      "cell_type": "code",
      "metadata": {
        "colab": {
          "base_uri": "https://localhost:8080/",
          "height": 34
        },
        "id": "1ce23e83",
        "outputId": "d22a91eb-4519-4499-f09f-77d5998b8e66"
      },
      "source": [
        "#Função doses - 1 e 2 doses no país\n",
        "display(vacina.soma_dose(\"Dose 2\"))"
      ],
      "id": "1ce23e83",
      "execution_count": 7,
      "outputs": [
        {
          "output_type": "display_data",
          "data": {
            "text/plain": [
              "53456717"
            ]
          },
          "metadata": {}
        }
      ]
    },
    {
      "cell_type": "markdown",
      "metadata": {
        "id": "7a0c3b3d"
      },
      "source": [
        "TOTAL DOSES APLICADAS - REGIÃO"
      ],
      "id": "7a0c3b3d"
    },
    {
      "cell_type": "code",
      "metadata": {
        "colab": {
          "base_uri": "https://localhost:8080/",
          "height": 235
        },
        "id": "d86fcffe",
        "outputId": "009a0299-f3f4-429d-fdb1-e3e90f8a62e3"
      },
      "source": [
        "#Função Região - Soma das doses aplicadas nas regiões\n",
        "display(vacina.regiao_doses(\"Doses Aplicadas\"))"
      ],
      "id": "d86fcffe",
      "execution_count": 8,
      "outputs": [
        {
          "output_type": "display_data",
          "data": {
            "text/html": [
              "<div>\n",
              "<style scoped>\n",
              "    .dataframe tbody tr th:only-of-type {\n",
              "        vertical-align: middle;\n",
              "    }\n",
              "\n",
              "    .dataframe tbody tr th {\n",
              "        vertical-align: top;\n",
              "    }\n",
              "\n",
              "    .dataframe thead th {\n",
              "        text-align: right;\n",
              "    }\n",
              "</style>\n",
              "<table border=\"1\" class=\"dataframe\">\n",
              "  <thead>\n",
              "    <tr style=\"text-align: right;\">\n",
              "      <th></th>\n",
              "      <th>Doses Aplicadas</th>\n",
              "    </tr>\n",
              "    <tr>\n",
              "      <th>Região</th>\n",
              "      <th></th>\n",
              "    </tr>\n",
              "  </thead>\n",
              "  <tbody>\n",
              "    <tr>\n",
              "      <th>Centro-Oeste</th>\n",
              "      <td>14310155</td>\n",
              "    </tr>\n",
              "    <tr>\n",
              "      <th>Nordeste</th>\n",
              "      <td>41069429</td>\n",
              "    </tr>\n",
              "    <tr>\n",
              "      <th>Norte</th>\n",
              "      <td>12215097</td>\n",
              "    </tr>\n",
              "    <tr>\n",
              "      <th>Sudeste</th>\n",
              "      <td>85729863</td>\n",
              "    </tr>\n",
              "    <tr>\n",
              "      <th>Sul</th>\n",
              "      <td>29198952</td>\n",
              "    </tr>\n",
              "  </tbody>\n",
              "</table>\n",
              "</div>"
            ],
            "text/plain": [
              "              Doses Aplicadas\n",
              "Região                       \n",
              "Centro-Oeste         14310155\n",
              "Nordeste             41069429\n",
              "Norte                12215097\n",
              "Sudeste              85729863\n",
              "Sul                  29198952"
            ]
          },
          "metadata": {}
        }
      ]
    },
    {
      "cell_type": "markdown",
      "metadata": {
        "id": "ea5687e0"
      },
      "source": [
        "TOTAL PRIMEIRA DOSE APLICADAS - REGIÃO"
      ],
      "id": "ea5687e0"
    },
    {
      "cell_type": "code",
      "metadata": {
        "colab": {
          "base_uri": "https://localhost:8080/",
          "height": 235
        },
        "id": "130715d0",
        "outputId": "7c97c2dc-61ee-4d74-8b6c-2ff5247fc51a"
      },
      "source": [
        "#ANALISE 1 E 2 DOSE - REGIÕES\n",
        "display(vacina.regiao_doses(\"Dose 1\"))"
      ],
      "id": "130715d0",
      "execution_count": 9,
      "outputs": [
        {
          "output_type": "display_data",
          "data": {
            "text/html": [
              "<div>\n",
              "<style scoped>\n",
              "    .dataframe tbody tr th:only-of-type {\n",
              "        vertical-align: middle;\n",
              "    }\n",
              "\n",
              "    .dataframe tbody tr th {\n",
              "        vertical-align: top;\n",
              "    }\n",
              "\n",
              "    .dataframe thead th {\n",
              "        text-align: right;\n",
              "    }\n",
              "</style>\n",
              "<table border=\"1\" class=\"dataframe\">\n",
              "  <thead>\n",
              "    <tr style=\"text-align: right;\">\n",
              "      <th></th>\n",
              "      <th>Dose 1</th>\n",
              "    </tr>\n",
              "    <tr>\n",
              "      <th>Região</th>\n",
              "      <th></th>\n",
              "    </tr>\n",
              "  </thead>\n",
              "  <tbody>\n",
              "    <tr>\n",
              "      <th>Centro-Oeste</th>\n",
              "      <td>9803815</td>\n",
              "    </tr>\n",
              "    <tr>\n",
              "      <th>Nordeste</th>\n",
              "      <td>28799245</td>\n",
              "    </tr>\n",
              "    <tr>\n",
              "      <th>Norte</th>\n",
              "      <td>8795259</td>\n",
              "    </tr>\n",
              "    <tr>\n",
              "      <th>Sudeste</th>\n",
              "      <td>57764153</td>\n",
              "    </tr>\n",
              "    <tr>\n",
              "      <th>Sul</th>\n",
              "      <td>19629197</td>\n",
              "    </tr>\n",
              "  </tbody>\n",
              "</table>\n",
              "</div>"
            ],
            "text/plain": [
              "                Dose 1\n",
              "Região                \n",
              "Centro-Oeste   9803815\n",
              "Nordeste      28799245\n",
              "Norte          8795259\n",
              "Sudeste       57764153\n",
              "Sul           19629197"
            ]
          },
          "metadata": {}
        }
      ]
    },
    {
      "cell_type": "markdown",
      "metadata": {
        "id": "1e49d538"
      },
      "source": [
        "TOTAL SEGUNDA DOSE APLICADAS - REGIÃO"
      ],
      "id": "1e49d538"
    },
    {
      "cell_type": "code",
      "metadata": {
        "colab": {
          "base_uri": "https://localhost:8080/",
          "height": 235
        },
        "id": "1ad18b61",
        "outputId": "1e069cca-62a1-4411-cd5b-887905107f65"
      },
      "source": [
        "#ANALISE 1 E 2 DOSE - REGIÕES\n",
        "display(vacina.regiao_doses(\"Dose 2\"))"
      ],
      "id": "1ad18b61",
      "execution_count": 10,
      "outputs": [
        {
          "output_type": "display_data",
          "data": {
            "text/html": [
              "<div>\n",
              "<style scoped>\n",
              "    .dataframe tbody tr th:only-of-type {\n",
              "        vertical-align: middle;\n",
              "    }\n",
              "\n",
              "    .dataframe tbody tr th {\n",
              "        vertical-align: top;\n",
              "    }\n",
              "\n",
              "    .dataframe thead th {\n",
              "        text-align: right;\n",
              "    }\n",
              "</style>\n",
              "<table border=\"1\" class=\"dataframe\">\n",
              "  <thead>\n",
              "    <tr style=\"text-align: right;\">\n",
              "      <th></th>\n",
              "      <th>Dose 2</th>\n",
              "    </tr>\n",
              "    <tr>\n",
              "      <th>Região</th>\n",
              "      <th></th>\n",
              "    </tr>\n",
              "  </thead>\n",
              "  <tbody>\n",
              "    <tr>\n",
              "      <th>Centro-Oeste</th>\n",
              "      <td>4039021</td>\n",
              "    </tr>\n",
              "    <tr>\n",
              "      <th>Nordeste</th>\n",
              "      <td>11547517</td>\n",
              "    </tr>\n",
              "    <tr>\n",
              "      <th>Norte</th>\n",
              "      <td>3175819</td>\n",
              "    </tr>\n",
              "    <tr>\n",
              "      <th>Sudeste</th>\n",
              "      <td>25969770</td>\n",
              "    </tr>\n",
              "    <tr>\n",
              "      <th>Sul</th>\n",
              "      <td>8724590</td>\n",
              "    </tr>\n",
              "  </tbody>\n",
              "</table>\n",
              "</div>"
            ],
            "text/plain": [
              "                Dose 2\n",
              "Região                \n",
              "Centro-Oeste   4039021\n",
              "Nordeste      11547517\n",
              "Norte          3175819\n",
              "Sudeste       25969770\n",
              "Sul            8724590"
            ]
          },
          "metadata": {}
        }
      ]
    },
    {
      "cell_type": "markdown",
      "metadata": {
        "id": "1ad57bff"
      },
      "source": [
        "TOTAL DOSES APLICADAS - REGIÃO/ESTADO"
      ],
      "id": "1ad57bff"
    },
    {
      "cell_type": "code",
      "metadata": {
        "colab": {
          "base_uri": "https://localhost:8080/",
          "height": 917
        },
        "id": "01da49cc",
        "outputId": "b584771b-4299-4371-8d02-93b2c3a1aad0"
      },
      "source": [
        "#Função Região Estado - Analise do total de doses olhando as regiões e estados\n",
        "display(vacina.regiao_estado('Região','UF', \"Doses Aplicadas\"))\n"
      ],
      "id": "01da49cc",
      "execution_count": 11,
      "outputs": [
        {
          "output_type": "display_data",
          "data": {
            "text/html": [
              "<div>\n",
              "<style scoped>\n",
              "    .dataframe tbody tr th:only-of-type {\n",
              "        vertical-align: middle;\n",
              "    }\n",
              "\n",
              "    .dataframe tbody tr th {\n",
              "        vertical-align: top;\n",
              "    }\n",
              "\n",
              "    .dataframe thead th {\n",
              "        text-align: right;\n",
              "    }\n",
              "</style>\n",
              "<table border=\"1\" class=\"dataframe\">\n",
              "  <thead>\n",
              "    <tr style=\"text-align: right;\">\n",
              "      <th></th>\n",
              "      <th></th>\n",
              "      <th>Doses Aplicadas</th>\n",
              "    </tr>\n",
              "    <tr>\n",
              "      <th>Região</th>\n",
              "      <th>UF</th>\n",
              "      <th></th>\n",
              "    </tr>\n",
              "  </thead>\n",
              "  <tbody>\n",
              "    <tr>\n",
              "      <th rowspan=\"4\" valign=\"top\">Centro-Oeste</th>\n",
              "      <th>DF</th>\n",
              "      <td>2625202</td>\n",
              "    </tr>\n",
              "    <tr>\n",
              "      <th>GO</th>\n",
              "      <td>5902005</td>\n",
              "    </tr>\n",
              "    <tr>\n",
              "      <th>MS</th>\n",
              "      <td>3008797</td>\n",
              "    </tr>\n",
              "    <tr>\n",
              "      <th>MT</th>\n",
              "      <td>2774151</td>\n",
              "    </tr>\n",
              "    <tr>\n",
              "      <th rowspan=\"9\" valign=\"top\">Nordeste</th>\n",
              "      <th>AL</th>\n",
              "      <td>2608007</td>\n",
              "    </tr>\n",
              "    <tr>\n",
              "      <th>BA</th>\n",
              "      <td>10770821</td>\n",
              "    </tr>\n",
              "    <tr>\n",
              "      <th>CE</th>\n",
              "      <td>4921485</td>\n",
              "    </tr>\n",
              "    <tr>\n",
              "      <th>MA</th>\n",
              "      <td>5042628</td>\n",
              "    </tr>\n",
              "    <tr>\n",
              "      <th>PB</th>\n",
              "      <td>3393208</td>\n",
              "    </tr>\n",
              "    <tr>\n",
              "      <th>PE</th>\n",
              "      <td>7142136</td>\n",
              "    </tr>\n",
              "    <tr>\n",
              "      <th>PI</th>\n",
              "      <td>2597410</td>\n",
              "    </tr>\n",
              "    <tr>\n",
              "      <th>RN</th>\n",
              "      <td>3012511</td>\n",
              "    </tr>\n",
              "    <tr>\n",
              "      <th>SE</th>\n",
              "      <td>1581223</td>\n",
              "    </tr>\n",
              "    <tr>\n",
              "      <th rowspan=\"7\" valign=\"top\">Norte</th>\n",
              "      <th>AC</th>\n",
              "      <td>671500</td>\n",
              "    </tr>\n",
              "    <tr>\n",
              "      <th>AM</th>\n",
              "      <td>2942641</td>\n",
              "    </tr>\n",
              "    <tr>\n",
              "      <th>AP</th>\n",
              "      <td>536539</td>\n",
              "    </tr>\n",
              "    <tr>\n",
              "      <th>PA</th>\n",
              "      <td>5095067</td>\n",
              "    </tr>\n",
              "    <tr>\n",
              "      <th>RO</th>\n",
              "      <td>1401076</td>\n",
              "    </tr>\n",
              "    <tr>\n",
              "      <th>RR</th>\n",
              "      <td>387234</td>\n",
              "    </tr>\n",
              "    <tr>\n",
              "      <th>TO</th>\n",
              "      <td>1181040</td>\n",
              "    </tr>\n",
              "    <tr>\n",
              "      <th rowspan=\"4\" valign=\"top\">Sudeste</th>\n",
              "      <th>ES</th>\n",
              "      <td>3784563</td>\n",
              "    </tr>\n",
              "    <tr>\n",
              "      <th>MG</th>\n",
              "      <td>17730803</td>\n",
              "    </tr>\n",
              "    <tr>\n",
              "      <th>RJ</th>\n",
              "      <td>15293512</td>\n",
              "    </tr>\n",
              "    <tr>\n",
              "      <th>SP</th>\n",
              "      <td>48920985</td>\n",
              "    </tr>\n",
              "    <tr>\n",
              "      <th rowspan=\"3\" valign=\"top\">Sul</th>\n",
              "      <th>PR</th>\n",
              "      <td>10699051</td>\n",
              "    </tr>\n",
              "    <tr>\n",
              "      <th>RS</th>\n",
              "      <td>11685688</td>\n",
              "    </tr>\n",
              "    <tr>\n",
              "      <th>SC</th>\n",
              "      <td>6814213</td>\n",
              "    </tr>\n",
              "  </tbody>\n",
              "</table>\n",
              "</div>"
            ],
            "text/plain": [
              "                 Doses Aplicadas\n",
              "Região       UF                 \n",
              "Centro-Oeste DF          2625202\n",
              "             GO          5902005\n",
              "             MS          3008797\n",
              "             MT          2774151\n",
              "Nordeste     AL          2608007\n",
              "             BA         10770821\n",
              "             CE          4921485\n",
              "             MA          5042628\n",
              "             PB          3393208\n",
              "             PE          7142136\n",
              "             PI          2597410\n",
              "             RN          3012511\n",
              "             SE          1581223\n",
              "Norte        AC           671500\n",
              "             AM          2942641\n",
              "             AP           536539\n",
              "             PA          5095067\n",
              "             RO          1401076\n",
              "             RR           387234\n",
              "             TO          1181040\n",
              "Sudeste      ES          3784563\n",
              "             MG         17730803\n",
              "             RJ         15293512\n",
              "             SP         48920985\n",
              "Sul          PR         10699051\n",
              "             RS         11685688\n",
              "             SC          6814213"
            ]
          },
          "metadata": {}
        }
      ]
    },
    {
      "cell_type": "markdown",
      "metadata": {
        "id": "fc8bc315"
      },
      "source": [
        "TOTAL PRIMEIRA DOSE APLICADAS - REGIÃO/ESTADO"
      ],
      "id": "fc8bc315"
    },
    {
      "cell_type": "code",
      "metadata": {
        "colab": {
          "base_uri": "https://localhost:8080/",
          "height": 917
        },
        "id": "0a1fa4ec",
        "outputId": "d6cff42d-5ab9-4b30-a618-e93cd4d2b19c"
      },
      "source": [
        "#Função Região Estado - 1 e 2 doses olhando as regiões e estados\n",
        "display(vacina.regiao_estado('Região','UF', \"Dose 1\"))\n"
      ],
      "id": "0a1fa4ec",
      "execution_count": 12,
      "outputs": [
        {
          "output_type": "display_data",
          "data": {
            "text/html": [
              "<div>\n",
              "<style scoped>\n",
              "    .dataframe tbody tr th:only-of-type {\n",
              "        vertical-align: middle;\n",
              "    }\n",
              "\n",
              "    .dataframe tbody tr th {\n",
              "        vertical-align: top;\n",
              "    }\n",
              "\n",
              "    .dataframe thead th {\n",
              "        text-align: right;\n",
              "    }\n",
              "</style>\n",
              "<table border=\"1\" class=\"dataframe\">\n",
              "  <thead>\n",
              "    <tr style=\"text-align: right;\">\n",
              "      <th></th>\n",
              "      <th></th>\n",
              "      <th>Dose 1</th>\n",
              "    </tr>\n",
              "    <tr>\n",
              "      <th>Região</th>\n",
              "      <th>UF</th>\n",
              "      <th></th>\n",
              "    </tr>\n",
              "  </thead>\n",
              "  <tbody>\n",
              "    <tr>\n",
              "      <th rowspan=\"4\" valign=\"top\">Centro-Oeste</th>\n",
              "      <th>DF</th>\n",
              "      <td>1877153</td>\n",
              "    </tr>\n",
              "    <tr>\n",
              "      <th>GO</th>\n",
              "      <td>4125705</td>\n",
              "    </tr>\n",
              "    <tr>\n",
              "      <th>MS</th>\n",
              "      <td>1837305</td>\n",
              "    </tr>\n",
              "    <tr>\n",
              "      <th>MT</th>\n",
              "      <td>1963652</td>\n",
              "    </tr>\n",
              "    <tr>\n",
              "      <th rowspan=\"9\" valign=\"top\">Nordeste</th>\n",
              "      <th>AL</th>\n",
              "      <td>1790695</td>\n",
              "    </tr>\n",
              "    <tr>\n",
              "      <th>BA</th>\n",
              "      <td>7524665</td>\n",
              "    </tr>\n",
              "    <tr>\n",
              "      <th>CE</th>\n",
              "      <td>3346872</td>\n",
              "    </tr>\n",
              "    <tr>\n",
              "      <th>MA</th>\n",
              "      <td>3555961</td>\n",
              "    </tr>\n",
              "    <tr>\n",
              "      <th>PB</th>\n",
              "      <td>2438777</td>\n",
              "    </tr>\n",
              "    <tr>\n",
              "      <th>PE</th>\n",
              "      <td>5047704</td>\n",
              "    </tr>\n",
              "    <tr>\n",
              "      <th>PI</th>\n",
              "      <td>1818690</td>\n",
              "    </tr>\n",
              "    <tr>\n",
              "      <th>RN</th>\n",
              "      <td>2125924</td>\n",
              "    </tr>\n",
              "    <tr>\n",
              "      <th>SE</th>\n",
              "      <td>1149957</td>\n",
              "    </tr>\n",
              "    <tr>\n",
              "      <th rowspan=\"7\" valign=\"top\">Norte</th>\n",
              "      <th>AC</th>\n",
              "      <td>466322</td>\n",
              "    </tr>\n",
              "    <tr>\n",
              "      <th>AM</th>\n",
              "      <td>2152248</td>\n",
              "    </tr>\n",
              "    <tr>\n",
              "      <th>AP</th>\n",
              "      <td>403683</td>\n",
              "    </tr>\n",
              "    <tr>\n",
              "      <th>PA</th>\n",
              "      <td>3638700</td>\n",
              "    </tr>\n",
              "    <tr>\n",
              "      <th>RO</th>\n",
              "      <td>1009148</td>\n",
              "    </tr>\n",
              "    <tr>\n",
              "      <th>RR</th>\n",
              "      <td>291486</td>\n",
              "    </tr>\n",
              "    <tr>\n",
              "      <th>TO</th>\n",
              "      <td>833672</td>\n",
              "    </tr>\n",
              "    <tr>\n",
              "      <th rowspan=\"4\" valign=\"top\">Sudeste</th>\n",
              "      <th>ES</th>\n",
              "      <td>2494760</td>\n",
              "    </tr>\n",
              "    <tr>\n",
              "      <th>MG</th>\n",
              "      <td>12321283</td>\n",
              "    </tr>\n",
              "    <tr>\n",
              "      <th>RJ</th>\n",
              "      <td>10373840</td>\n",
              "    </tr>\n",
              "    <tr>\n",
              "      <th>SP</th>\n",
              "      <td>32574270</td>\n",
              "    </tr>\n",
              "    <tr>\n",
              "      <th rowspan=\"3\" valign=\"top\">Sul</th>\n",
              "      <th>PR</th>\n",
              "      <td>7388454</td>\n",
              "    </tr>\n",
              "    <tr>\n",
              "      <th>RS</th>\n",
              "      <td>7617063</td>\n",
              "    </tr>\n",
              "    <tr>\n",
              "      <th>SC</th>\n",
              "      <td>4623680</td>\n",
              "    </tr>\n",
              "  </tbody>\n",
              "</table>\n",
              "</div>"
            ],
            "text/plain": [
              "                   Dose 1\n",
              "Região       UF          \n",
              "Centro-Oeste DF   1877153\n",
              "             GO   4125705\n",
              "             MS   1837305\n",
              "             MT   1963652\n",
              "Nordeste     AL   1790695\n",
              "             BA   7524665\n",
              "             CE   3346872\n",
              "             MA   3555961\n",
              "             PB   2438777\n",
              "             PE   5047704\n",
              "             PI   1818690\n",
              "             RN   2125924\n",
              "             SE   1149957\n",
              "Norte        AC    466322\n",
              "             AM   2152248\n",
              "             AP    403683\n",
              "             PA   3638700\n",
              "             RO   1009148\n",
              "             RR    291486\n",
              "             TO    833672\n",
              "Sudeste      ES   2494760\n",
              "             MG  12321283\n",
              "             RJ  10373840\n",
              "             SP  32574270\n",
              "Sul          PR   7388454\n",
              "             RS   7617063\n",
              "             SC   4623680"
            ]
          },
          "metadata": {}
        }
      ]
    },
    {
      "cell_type": "markdown",
      "metadata": {
        "id": "8468dc4b"
      },
      "source": [
        "TOTAL SEGUNDA DOSE APLICADAS - REGIÃO/ESTADO"
      ],
      "id": "8468dc4b"
    },
    {
      "cell_type": "code",
      "metadata": {
        "colab": {
          "base_uri": "https://localhost:8080/",
          "height": 917
        },
        "id": "8dd89606",
        "outputId": "a35e8a9c-bf95-4e78-f3dd-28a0ee4a70cf"
      },
      "source": [
        "#Função Região Estado - 1 e 2 doses olhando as regiões e estados\n",
        "display(vacina.regiao_estado('Região','UF', \"Dose 2\"))\n"
      ],
      "id": "8dd89606",
      "execution_count": 13,
      "outputs": [
        {
          "output_type": "display_data",
          "data": {
            "text/html": [
              "<div>\n",
              "<style scoped>\n",
              "    .dataframe tbody tr th:only-of-type {\n",
              "        vertical-align: middle;\n",
              "    }\n",
              "\n",
              "    .dataframe tbody tr th {\n",
              "        vertical-align: top;\n",
              "    }\n",
              "\n",
              "    .dataframe thead th {\n",
              "        text-align: right;\n",
              "    }\n",
              "</style>\n",
              "<table border=\"1\" class=\"dataframe\">\n",
              "  <thead>\n",
              "    <tr style=\"text-align: right;\">\n",
              "      <th></th>\n",
              "      <th></th>\n",
              "      <th>Dose 2</th>\n",
              "    </tr>\n",
              "    <tr>\n",
              "      <th>Região</th>\n",
              "      <th>UF</th>\n",
              "      <th></th>\n",
              "    </tr>\n",
              "  </thead>\n",
              "  <tbody>\n",
              "    <tr>\n",
              "      <th rowspan=\"4\" valign=\"top\">Centro-Oeste</th>\n",
              "      <th>DF</th>\n",
              "      <td>703619</td>\n",
              "    </tr>\n",
              "    <tr>\n",
              "      <th>GO</th>\n",
              "      <td>1624274</td>\n",
              "    </tr>\n",
              "    <tr>\n",
              "      <th>MS</th>\n",
              "      <td>989483</td>\n",
              "    </tr>\n",
              "    <tr>\n",
              "      <th>MT</th>\n",
              "      <td>721645</td>\n",
              "    </tr>\n",
              "    <tr>\n",
              "      <th rowspan=\"9\" valign=\"top\">Nordeste</th>\n",
              "      <th>AL</th>\n",
              "      <td>762840</td>\n",
              "    </tr>\n",
              "    <tr>\n",
              "      <th>BA</th>\n",
              "      <td>3014953</td>\n",
              "    </tr>\n",
              "    <tr>\n",
              "      <th>CE</th>\n",
              "      <td>1529519</td>\n",
              "    </tr>\n",
              "    <tr>\n",
              "      <th>MA</th>\n",
              "      <td>1382938</td>\n",
              "    </tr>\n",
              "    <tr>\n",
              "      <th>PB</th>\n",
              "      <td>910314</td>\n",
              "    </tr>\n",
              "    <tr>\n",
              "      <th>PE</th>\n",
              "      <td>1983086</td>\n",
              "    </tr>\n",
              "    <tr>\n",
              "      <th>PI</th>\n",
              "      <td>729585</td>\n",
              "    </tr>\n",
              "    <tr>\n",
              "      <th>RN</th>\n",
              "      <td>830649</td>\n",
              "    </tr>\n",
              "    <tr>\n",
              "      <th>SE</th>\n",
              "      <td>403633</td>\n",
              "    </tr>\n",
              "    <tr>\n",
              "      <th rowspan=\"7\" valign=\"top\">Norte</th>\n",
              "      <th>AC</th>\n",
              "      <td>193759</td>\n",
              "    </tr>\n",
              "    <tr>\n",
              "      <th>AM</th>\n",
              "      <td>750953</td>\n",
              "    </tr>\n",
              "    <tr>\n",
              "      <th>AP</th>\n",
              "      <td>123012</td>\n",
              "    </tr>\n",
              "    <tr>\n",
              "      <th>PA</th>\n",
              "      <td>1342665</td>\n",
              "    </tr>\n",
              "    <tr>\n",
              "      <th>RO</th>\n",
              "      <td>362387</td>\n",
              "    </tr>\n",
              "    <tr>\n",
              "      <th>RR</th>\n",
              "      <td>85576</td>\n",
              "    </tr>\n",
              "    <tr>\n",
              "      <th>TO</th>\n",
              "      <td>317467</td>\n",
              "    </tr>\n",
              "    <tr>\n",
              "      <th rowspan=\"4\" valign=\"top\">Sudeste</th>\n",
              "      <th>ES</th>\n",
              "      <td>1186263</td>\n",
              "    </tr>\n",
              "    <tr>\n",
              "      <th>MG</th>\n",
              "      <td>4963135</td>\n",
              "    </tr>\n",
              "    <tr>\n",
              "      <th>RJ</th>\n",
              "      <td>4593360</td>\n",
              "    </tr>\n",
              "    <tr>\n",
              "      <th>SP</th>\n",
              "      <td>15227012</td>\n",
              "    </tr>\n",
              "    <tr>\n",
              "      <th rowspan=\"3\" valign=\"top\">Sul</th>\n",
              "      <th>PR</th>\n",
              "      <td>2993261</td>\n",
              "    </tr>\n",
              "    <tr>\n",
              "      <th>RS</th>\n",
              "      <td>3777587</td>\n",
              "    </tr>\n",
              "    <tr>\n",
              "      <th>SC</th>\n",
              "      <td>1953742</td>\n",
              "    </tr>\n",
              "  </tbody>\n",
              "</table>\n",
              "</div>"
            ],
            "text/plain": [
              "                   Dose 2\n",
              "Região       UF          \n",
              "Centro-Oeste DF    703619\n",
              "             GO   1624274\n",
              "             MS    989483\n",
              "             MT    721645\n",
              "Nordeste     AL    762840\n",
              "             BA   3014953\n",
              "             CE   1529519\n",
              "             MA   1382938\n",
              "             PB    910314\n",
              "             PE   1983086\n",
              "             PI    729585\n",
              "             RN    830649\n",
              "             SE    403633\n",
              "Norte        AC    193759\n",
              "             AM    750953\n",
              "             AP    123012\n",
              "             PA   1342665\n",
              "             RO    362387\n",
              "             RR     85576\n",
              "             TO    317467\n",
              "Sudeste      ES   1186263\n",
              "             MG   4963135\n",
              "             RJ   4593360\n",
              "             SP  15227012\n",
              "Sul          PR   2993261\n",
              "             RS   3777587\n",
              "             SC   1953742"
            ]
          },
          "metadata": {}
        }
      ]
    },
    {
      "cell_type": "markdown",
      "metadata": {
        "id": "6774037a"
      },
      "source": [
        "TOTAL DOSES APLICADAS - ESTADO"
      ],
      "id": "6774037a"
    },
    {
      "cell_type": "code",
      "metadata": {
        "colab": {
          "base_uri": "https://localhost:8080/",
          "height": 917
        },
        "id": "c567e4c5",
        "outputId": "85545603-26be-40ff-d4df-8be9d9abc7b8"
      },
      "source": [
        "#Função Estado - Analise do total de doses olhando os estados\n",
        "display(vacina.soma_estado('UF', \"Doses Aplicadas\"))"
      ],
      "id": "c567e4c5",
      "execution_count": 14,
      "outputs": [
        {
          "output_type": "display_data",
          "data": {
            "text/html": [
              "<div>\n",
              "<style scoped>\n",
              "    .dataframe tbody tr th:only-of-type {\n",
              "        vertical-align: middle;\n",
              "    }\n",
              "\n",
              "    .dataframe tbody tr th {\n",
              "        vertical-align: top;\n",
              "    }\n",
              "\n",
              "    .dataframe thead th {\n",
              "        text-align: right;\n",
              "    }\n",
              "</style>\n",
              "<table border=\"1\" class=\"dataframe\">\n",
              "  <thead>\n",
              "    <tr style=\"text-align: right;\">\n",
              "      <th></th>\n",
              "      <th>Doses Aplicadas</th>\n",
              "    </tr>\n",
              "    <tr>\n",
              "      <th>UF</th>\n",
              "      <th></th>\n",
              "    </tr>\n",
              "  </thead>\n",
              "  <tbody>\n",
              "    <tr>\n",
              "      <th>AC</th>\n",
              "      <td>671500</td>\n",
              "    </tr>\n",
              "    <tr>\n",
              "      <th>AL</th>\n",
              "      <td>2608007</td>\n",
              "    </tr>\n",
              "    <tr>\n",
              "      <th>AM</th>\n",
              "      <td>2942641</td>\n",
              "    </tr>\n",
              "    <tr>\n",
              "      <th>AP</th>\n",
              "      <td>536539</td>\n",
              "    </tr>\n",
              "    <tr>\n",
              "      <th>BA</th>\n",
              "      <td>10770821</td>\n",
              "    </tr>\n",
              "    <tr>\n",
              "      <th>CE</th>\n",
              "      <td>4921485</td>\n",
              "    </tr>\n",
              "    <tr>\n",
              "      <th>DF</th>\n",
              "      <td>2625202</td>\n",
              "    </tr>\n",
              "    <tr>\n",
              "      <th>ES</th>\n",
              "      <td>3784563</td>\n",
              "    </tr>\n",
              "    <tr>\n",
              "      <th>GO</th>\n",
              "      <td>5902005</td>\n",
              "    </tr>\n",
              "    <tr>\n",
              "      <th>MA</th>\n",
              "      <td>5042628</td>\n",
              "    </tr>\n",
              "    <tr>\n",
              "      <th>MG</th>\n",
              "      <td>17730803</td>\n",
              "    </tr>\n",
              "    <tr>\n",
              "      <th>MS</th>\n",
              "      <td>3008797</td>\n",
              "    </tr>\n",
              "    <tr>\n",
              "      <th>MT</th>\n",
              "      <td>2774151</td>\n",
              "    </tr>\n",
              "    <tr>\n",
              "      <th>PA</th>\n",
              "      <td>5095067</td>\n",
              "    </tr>\n",
              "    <tr>\n",
              "      <th>PB</th>\n",
              "      <td>3393208</td>\n",
              "    </tr>\n",
              "    <tr>\n",
              "      <th>PE</th>\n",
              "      <td>7142136</td>\n",
              "    </tr>\n",
              "    <tr>\n",
              "      <th>PI</th>\n",
              "      <td>2597410</td>\n",
              "    </tr>\n",
              "    <tr>\n",
              "      <th>PR</th>\n",
              "      <td>10699051</td>\n",
              "    </tr>\n",
              "    <tr>\n",
              "      <th>RJ</th>\n",
              "      <td>15293512</td>\n",
              "    </tr>\n",
              "    <tr>\n",
              "      <th>RN</th>\n",
              "      <td>3012511</td>\n",
              "    </tr>\n",
              "    <tr>\n",
              "      <th>RO</th>\n",
              "      <td>1401076</td>\n",
              "    </tr>\n",
              "    <tr>\n",
              "      <th>RR</th>\n",
              "      <td>387234</td>\n",
              "    </tr>\n",
              "    <tr>\n",
              "      <th>RS</th>\n",
              "      <td>11685688</td>\n",
              "    </tr>\n",
              "    <tr>\n",
              "      <th>SC</th>\n",
              "      <td>6814213</td>\n",
              "    </tr>\n",
              "    <tr>\n",
              "      <th>SE</th>\n",
              "      <td>1581223</td>\n",
              "    </tr>\n",
              "    <tr>\n",
              "      <th>SP</th>\n",
              "      <td>48920985</td>\n",
              "    </tr>\n",
              "    <tr>\n",
              "      <th>TO</th>\n",
              "      <td>1181040</td>\n",
              "    </tr>\n",
              "  </tbody>\n",
              "</table>\n",
              "</div>"
            ],
            "text/plain": [
              "    Doses Aplicadas\n",
              "UF                 \n",
              "AC           671500\n",
              "AL          2608007\n",
              "AM          2942641\n",
              "AP           536539\n",
              "BA         10770821\n",
              "CE          4921485\n",
              "DF          2625202\n",
              "ES          3784563\n",
              "GO          5902005\n",
              "MA          5042628\n",
              "MG         17730803\n",
              "MS          3008797\n",
              "MT          2774151\n",
              "PA          5095067\n",
              "PB          3393208\n",
              "PE          7142136\n",
              "PI          2597410\n",
              "PR         10699051\n",
              "RJ         15293512\n",
              "RN          3012511\n",
              "RO          1401076\n",
              "RR           387234\n",
              "RS         11685688\n",
              "SC          6814213\n",
              "SE          1581223\n",
              "SP         48920985\n",
              "TO          1181040"
            ]
          },
          "metadata": {}
        }
      ]
    },
    {
      "cell_type": "markdown",
      "metadata": {
        "id": "5243d588"
      },
      "source": [
        "TOTAL PRIMEIRA DOSE APLICADAS - ESTADO"
      ],
      "id": "5243d588"
    },
    {
      "cell_type": "code",
      "metadata": {
        "colab": {
          "base_uri": "https://localhost:8080/",
          "height": 917
        },
        "id": "1bf4e04e",
        "outputId": "ad59d048-230f-433f-812c-c684eb9f78a7"
      },
      "source": [
        "#Função Estado - Analise 1 e 2 doses olhando os estados\n",
        "display(vacina.soma_estado('UF', \"Dose 1\"))"
      ],
      "id": "1bf4e04e",
      "execution_count": 15,
      "outputs": [
        {
          "output_type": "display_data",
          "data": {
            "text/html": [
              "<div>\n",
              "<style scoped>\n",
              "    .dataframe tbody tr th:only-of-type {\n",
              "        vertical-align: middle;\n",
              "    }\n",
              "\n",
              "    .dataframe tbody tr th {\n",
              "        vertical-align: top;\n",
              "    }\n",
              "\n",
              "    .dataframe thead th {\n",
              "        text-align: right;\n",
              "    }\n",
              "</style>\n",
              "<table border=\"1\" class=\"dataframe\">\n",
              "  <thead>\n",
              "    <tr style=\"text-align: right;\">\n",
              "      <th></th>\n",
              "      <th>Dose 1</th>\n",
              "    </tr>\n",
              "    <tr>\n",
              "      <th>UF</th>\n",
              "      <th></th>\n",
              "    </tr>\n",
              "  </thead>\n",
              "  <tbody>\n",
              "    <tr>\n",
              "      <th>AC</th>\n",
              "      <td>466322</td>\n",
              "    </tr>\n",
              "    <tr>\n",
              "      <th>AL</th>\n",
              "      <td>1790695</td>\n",
              "    </tr>\n",
              "    <tr>\n",
              "      <th>AM</th>\n",
              "      <td>2152248</td>\n",
              "    </tr>\n",
              "    <tr>\n",
              "      <th>AP</th>\n",
              "      <td>403683</td>\n",
              "    </tr>\n",
              "    <tr>\n",
              "      <th>BA</th>\n",
              "      <td>7524665</td>\n",
              "    </tr>\n",
              "    <tr>\n",
              "      <th>CE</th>\n",
              "      <td>3346872</td>\n",
              "    </tr>\n",
              "    <tr>\n",
              "      <th>DF</th>\n",
              "      <td>1877153</td>\n",
              "    </tr>\n",
              "    <tr>\n",
              "      <th>ES</th>\n",
              "      <td>2494760</td>\n",
              "    </tr>\n",
              "    <tr>\n",
              "      <th>GO</th>\n",
              "      <td>4125705</td>\n",
              "    </tr>\n",
              "    <tr>\n",
              "      <th>MA</th>\n",
              "      <td>3555961</td>\n",
              "    </tr>\n",
              "    <tr>\n",
              "      <th>MG</th>\n",
              "      <td>12321283</td>\n",
              "    </tr>\n",
              "    <tr>\n",
              "      <th>MS</th>\n",
              "      <td>1837305</td>\n",
              "    </tr>\n",
              "    <tr>\n",
              "      <th>MT</th>\n",
              "      <td>1963652</td>\n",
              "    </tr>\n",
              "    <tr>\n",
              "      <th>PA</th>\n",
              "      <td>3638700</td>\n",
              "    </tr>\n",
              "    <tr>\n",
              "      <th>PB</th>\n",
              "      <td>2438777</td>\n",
              "    </tr>\n",
              "    <tr>\n",
              "      <th>PE</th>\n",
              "      <td>5047704</td>\n",
              "    </tr>\n",
              "    <tr>\n",
              "      <th>PI</th>\n",
              "      <td>1818690</td>\n",
              "    </tr>\n",
              "    <tr>\n",
              "      <th>PR</th>\n",
              "      <td>7388454</td>\n",
              "    </tr>\n",
              "    <tr>\n",
              "      <th>RJ</th>\n",
              "      <td>10373840</td>\n",
              "    </tr>\n",
              "    <tr>\n",
              "      <th>RN</th>\n",
              "      <td>2125924</td>\n",
              "    </tr>\n",
              "    <tr>\n",
              "      <th>RO</th>\n",
              "      <td>1009148</td>\n",
              "    </tr>\n",
              "    <tr>\n",
              "      <th>RR</th>\n",
              "      <td>291486</td>\n",
              "    </tr>\n",
              "    <tr>\n",
              "      <th>RS</th>\n",
              "      <td>7617063</td>\n",
              "    </tr>\n",
              "    <tr>\n",
              "      <th>SC</th>\n",
              "      <td>4623680</td>\n",
              "    </tr>\n",
              "    <tr>\n",
              "      <th>SE</th>\n",
              "      <td>1149957</td>\n",
              "    </tr>\n",
              "    <tr>\n",
              "      <th>SP</th>\n",
              "      <td>32574270</td>\n",
              "    </tr>\n",
              "    <tr>\n",
              "      <th>TO</th>\n",
              "      <td>833672</td>\n",
              "    </tr>\n",
              "  </tbody>\n",
              "</table>\n",
              "</div>"
            ],
            "text/plain": [
              "      Dose 1\n",
              "UF          \n",
              "AC    466322\n",
              "AL   1790695\n",
              "AM   2152248\n",
              "AP    403683\n",
              "BA   7524665\n",
              "CE   3346872\n",
              "DF   1877153\n",
              "ES   2494760\n",
              "GO   4125705\n",
              "MA   3555961\n",
              "MG  12321283\n",
              "MS   1837305\n",
              "MT   1963652\n",
              "PA   3638700\n",
              "PB   2438777\n",
              "PE   5047704\n",
              "PI   1818690\n",
              "PR   7388454\n",
              "RJ  10373840\n",
              "RN   2125924\n",
              "RO   1009148\n",
              "RR    291486\n",
              "RS   7617063\n",
              "SC   4623680\n",
              "SE   1149957\n",
              "SP  32574270\n",
              "TO    833672"
            ]
          },
          "metadata": {}
        }
      ]
    },
    {
      "cell_type": "markdown",
      "metadata": {
        "id": "1d579452"
      },
      "source": [
        "TOTAL SEGUNDA DOSE APLICADAS - ESTADO"
      ],
      "id": "1d579452"
    },
    {
      "cell_type": "code",
      "metadata": {
        "colab": {
          "base_uri": "https://localhost:8080/",
          "height": 917
        },
        "id": "72cfcb52",
        "outputId": "4e193b72-de67-4cf3-8cbd-48e7df56a49c"
      },
      "source": [
        "#Função Estado - Analise do total de doses olhando os estados\n",
        "display(vacina.soma_estado('UF', \"Dose 2\"))"
      ],
      "id": "72cfcb52",
      "execution_count": 16,
      "outputs": [
        {
          "output_type": "display_data",
          "data": {
            "text/html": [
              "<div>\n",
              "<style scoped>\n",
              "    .dataframe tbody tr th:only-of-type {\n",
              "        vertical-align: middle;\n",
              "    }\n",
              "\n",
              "    .dataframe tbody tr th {\n",
              "        vertical-align: top;\n",
              "    }\n",
              "\n",
              "    .dataframe thead th {\n",
              "        text-align: right;\n",
              "    }\n",
              "</style>\n",
              "<table border=\"1\" class=\"dataframe\">\n",
              "  <thead>\n",
              "    <tr style=\"text-align: right;\">\n",
              "      <th></th>\n",
              "      <th>Dose 2</th>\n",
              "    </tr>\n",
              "    <tr>\n",
              "      <th>UF</th>\n",
              "      <th></th>\n",
              "    </tr>\n",
              "  </thead>\n",
              "  <tbody>\n",
              "    <tr>\n",
              "      <th>AC</th>\n",
              "      <td>193759</td>\n",
              "    </tr>\n",
              "    <tr>\n",
              "      <th>AL</th>\n",
              "      <td>762840</td>\n",
              "    </tr>\n",
              "    <tr>\n",
              "      <th>AM</th>\n",
              "      <td>750953</td>\n",
              "    </tr>\n",
              "    <tr>\n",
              "      <th>AP</th>\n",
              "      <td>123012</td>\n",
              "    </tr>\n",
              "    <tr>\n",
              "      <th>BA</th>\n",
              "      <td>3014953</td>\n",
              "    </tr>\n",
              "    <tr>\n",
              "      <th>CE</th>\n",
              "      <td>1529519</td>\n",
              "    </tr>\n",
              "    <tr>\n",
              "      <th>DF</th>\n",
              "      <td>703619</td>\n",
              "    </tr>\n",
              "    <tr>\n",
              "      <th>ES</th>\n",
              "      <td>1186263</td>\n",
              "    </tr>\n",
              "    <tr>\n",
              "      <th>GO</th>\n",
              "      <td>1624274</td>\n",
              "    </tr>\n",
              "    <tr>\n",
              "      <th>MA</th>\n",
              "      <td>1382938</td>\n",
              "    </tr>\n",
              "    <tr>\n",
              "      <th>MG</th>\n",
              "      <td>4963135</td>\n",
              "    </tr>\n",
              "    <tr>\n",
              "      <th>MS</th>\n",
              "      <td>989483</td>\n",
              "    </tr>\n",
              "    <tr>\n",
              "      <th>MT</th>\n",
              "      <td>721645</td>\n",
              "    </tr>\n",
              "    <tr>\n",
              "      <th>PA</th>\n",
              "      <td>1342665</td>\n",
              "    </tr>\n",
              "    <tr>\n",
              "      <th>PB</th>\n",
              "      <td>910314</td>\n",
              "    </tr>\n",
              "    <tr>\n",
              "      <th>PE</th>\n",
              "      <td>1983086</td>\n",
              "    </tr>\n",
              "    <tr>\n",
              "      <th>PI</th>\n",
              "      <td>729585</td>\n",
              "    </tr>\n",
              "    <tr>\n",
              "      <th>PR</th>\n",
              "      <td>2993261</td>\n",
              "    </tr>\n",
              "    <tr>\n",
              "      <th>RJ</th>\n",
              "      <td>4593360</td>\n",
              "    </tr>\n",
              "    <tr>\n",
              "      <th>RN</th>\n",
              "      <td>830649</td>\n",
              "    </tr>\n",
              "    <tr>\n",
              "      <th>RO</th>\n",
              "      <td>362387</td>\n",
              "    </tr>\n",
              "    <tr>\n",
              "      <th>RR</th>\n",
              "      <td>85576</td>\n",
              "    </tr>\n",
              "    <tr>\n",
              "      <th>RS</th>\n",
              "      <td>3777587</td>\n",
              "    </tr>\n",
              "    <tr>\n",
              "      <th>SC</th>\n",
              "      <td>1953742</td>\n",
              "    </tr>\n",
              "    <tr>\n",
              "      <th>SE</th>\n",
              "      <td>403633</td>\n",
              "    </tr>\n",
              "    <tr>\n",
              "      <th>SP</th>\n",
              "      <td>15227012</td>\n",
              "    </tr>\n",
              "    <tr>\n",
              "      <th>TO</th>\n",
              "      <td>317467</td>\n",
              "    </tr>\n",
              "  </tbody>\n",
              "</table>\n",
              "</div>"
            ],
            "text/plain": [
              "      Dose 2\n",
              "UF          \n",
              "AC    193759\n",
              "AL    762840\n",
              "AM    750953\n",
              "AP    123012\n",
              "BA   3014953\n",
              "CE   1529519\n",
              "DF    703619\n",
              "ES   1186263\n",
              "GO   1624274\n",
              "MA   1382938\n",
              "MG   4963135\n",
              "MS    989483\n",
              "MT    721645\n",
              "PA   1342665\n",
              "PB    910314\n",
              "PE   1983086\n",
              "PI    729585\n",
              "PR   2993261\n",
              "RJ   4593360\n",
              "RN    830649\n",
              "RO    362387\n",
              "RR     85576\n",
              "RS   3777587\n",
              "SC   1953742\n",
              "SE    403633\n",
              "SP  15227012\n",
              "TO    317467"
            ]
          },
          "metadata": {}
        }
      ]
    },
    {
      "cell_type": "markdown",
      "metadata": {
        "id": "7babd989"
      },
      "source": [
        "TOTAL DOSES APLICADAS MUNICÍPIOS"
      ],
      "id": "7babd989"
    },
    {
      "cell_type": "code",
      "metadata": {
        "colab": {
          "base_uri": "https://localhost:8080/",
          "height": 450
        },
        "id": "80967745",
        "outputId": "2ff10f84-3644-4b17-8c0a-404fb754b4e6"
      },
      "source": [
        "display(vacina.soma_municipios('Município','Doses Aplicadas'))"
      ],
      "id": "80967745",
      "execution_count": 17,
      "outputs": [
        {
          "output_type": "display_data",
          "data": {
            "text/html": [
              "<div>\n",
              "<style scoped>\n",
              "    .dataframe tbody tr th:only-of-type {\n",
              "        vertical-align: middle;\n",
              "    }\n",
              "\n",
              "    .dataframe tbody tr th {\n",
              "        vertical-align: top;\n",
              "    }\n",
              "\n",
              "    .dataframe thead th {\n",
              "        text-align: right;\n",
              "    }\n",
              "</style>\n",
              "<table border=\"1\" class=\"dataframe\">\n",
              "  <thead>\n",
              "    <tr style=\"text-align: right;\">\n",
              "      <th></th>\n",
              "      <th></th>\n",
              "      <th></th>\n",
              "      <th>Doses Aplicadas</th>\n",
              "    </tr>\n",
              "    <tr>\n",
              "      <th>UF</th>\n",
              "      <th>Cód. IBGE</th>\n",
              "      <th>Município</th>\n",
              "      <th></th>\n",
              "    </tr>\n",
              "  </thead>\n",
              "  <tbody>\n",
              "    <tr>\n",
              "      <th rowspan=\"5\" valign=\"top\">AC</th>\n",
              "      <th>120001</th>\n",
              "      <th>Acrelândia</th>\n",
              "      <td>10889</td>\n",
              "    </tr>\n",
              "    <tr>\n",
              "      <th>120005</th>\n",
              "      <th>Assis Brasil</th>\n",
              "      <td>8160</td>\n",
              "    </tr>\n",
              "    <tr>\n",
              "      <th>120010</th>\n",
              "      <th>Brasiléia</th>\n",
              "      <td>17420</td>\n",
              "    </tr>\n",
              "    <tr>\n",
              "      <th>120013</th>\n",
              "      <th>Bujari</th>\n",
              "      <td>9698</td>\n",
              "    </tr>\n",
              "    <tr>\n",
              "      <th>120017</th>\n",
              "      <th>Capixaba</th>\n",
              "      <td>7281</td>\n",
              "    </tr>\n",
              "    <tr>\n",
              "      <th>...</th>\n",
              "      <th>...</th>\n",
              "      <th>...</th>\n",
              "      <td>...</td>\n",
              "    </tr>\n",
              "    <tr>\n",
              "      <th rowspan=\"5\" valign=\"top\">TO</th>\n",
              "      <th>172120</th>\n",
              "      <th>Tocantinópolis</th>\n",
              "      <td>16547</td>\n",
              "    </tr>\n",
              "    <tr>\n",
              "      <th>172125</th>\n",
              "      <th>Tupirama</th>\n",
              "      <td>1375</td>\n",
              "    </tr>\n",
              "    <tr>\n",
              "      <th>172130</th>\n",
              "      <th>Tupiratins</th>\n",
              "      <td>1294</td>\n",
              "    </tr>\n",
              "    <tr>\n",
              "      <th>172208</th>\n",
              "      <th>Wanderlândia</th>\n",
              "      <td>6381</td>\n",
              "    </tr>\n",
              "    <tr>\n",
              "      <th>172210</th>\n",
              "      <th>Xambioá</th>\n",
              "      <td>8475</td>\n",
              "    </tr>\n",
              "  </tbody>\n",
              "</table>\n",
              "<p>5570 rows × 1 columns</p>\n",
              "</div>"
            ],
            "text/plain": [
              "                             Doses Aplicadas\n",
              "UF Cód. IBGE Município                      \n",
              "AC 120001    Acrelândia                10889\n",
              "   120005    Assis Brasil               8160\n",
              "   120010    Brasiléia                 17420\n",
              "   120013    Bujari                     9698\n",
              "   120017    Capixaba                   7281\n",
              "...                                      ...\n",
              "TO 172120    Tocantinópolis            16547\n",
              "   172125    Tupirama                   1375\n",
              "   172130    Tupiratins                 1294\n",
              "   172208    Wanderlândia               6381\n",
              "   172210    Xambioá                    8475\n",
              "\n",
              "[5570 rows x 1 columns]"
            ]
          },
          "metadata": {}
        }
      ]
    },
    {
      "cell_type": "markdown",
      "metadata": {
        "id": "777ccd83"
      },
      "source": [
        "TOTAL PRIMEIRA DOSE APLICADAS - MUNICÍPIOS"
      ],
      "id": "777ccd83"
    },
    {
      "cell_type": "code",
      "metadata": {
        "colab": {
          "base_uri": "https://localhost:8080/",
          "height": 450
        },
        "id": "1c3f87ff",
        "outputId": "02520f8a-c3b1-427d-f189-d94a39b215c1"
      },
      "source": [
        "#Função Municipio - 1 e 2 doses por municipios\n",
        "display(vacina.soma_municipios('Município','Dose 1'))"
      ],
      "id": "1c3f87ff",
      "execution_count": 18,
      "outputs": [
        {
          "output_type": "display_data",
          "data": {
            "text/html": [
              "<div>\n",
              "<style scoped>\n",
              "    .dataframe tbody tr th:only-of-type {\n",
              "        vertical-align: middle;\n",
              "    }\n",
              "\n",
              "    .dataframe tbody tr th {\n",
              "        vertical-align: top;\n",
              "    }\n",
              "\n",
              "    .dataframe thead th {\n",
              "        text-align: right;\n",
              "    }\n",
              "</style>\n",
              "<table border=\"1\" class=\"dataframe\">\n",
              "  <thead>\n",
              "    <tr style=\"text-align: right;\">\n",
              "      <th></th>\n",
              "      <th></th>\n",
              "      <th></th>\n",
              "      <th>Dose 1</th>\n",
              "    </tr>\n",
              "    <tr>\n",
              "      <th>UF</th>\n",
              "      <th>Cód. IBGE</th>\n",
              "      <th>Município</th>\n",
              "      <th></th>\n",
              "    </tr>\n",
              "  </thead>\n",
              "  <tbody>\n",
              "    <tr>\n",
              "      <th rowspan=\"5\" valign=\"top\">AC</th>\n",
              "      <th>120001</th>\n",
              "      <th>Acrelândia</th>\n",
              "      <td>7178</td>\n",
              "    </tr>\n",
              "    <tr>\n",
              "      <th>120005</th>\n",
              "      <th>Assis Brasil</th>\n",
              "      <td>5211</td>\n",
              "    </tr>\n",
              "    <tr>\n",
              "      <th>120010</th>\n",
              "      <th>Brasiléia</th>\n",
              "      <td>12459</td>\n",
              "    </tr>\n",
              "    <tr>\n",
              "      <th>120013</th>\n",
              "      <th>Bujari</th>\n",
              "      <td>6741</td>\n",
              "    </tr>\n",
              "    <tr>\n",
              "      <th>120017</th>\n",
              "      <th>Capixaba</th>\n",
              "      <td>4470</td>\n",
              "    </tr>\n",
              "    <tr>\n",
              "      <th>...</th>\n",
              "      <th>...</th>\n",
              "      <th>...</th>\n",
              "      <td>...</td>\n",
              "    </tr>\n",
              "    <tr>\n",
              "      <th rowspan=\"5\" valign=\"top\">TO</th>\n",
              "      <th>172120</th>\n",
              "      <th>Tocantinópolis</th>\n",
              "      <td>11534</td>\n",
              "    </tr>\n",
              "    <tr>\n",
              "      <th>172125</th>\n",
              "      <th>Tupirama</th>\n",
              "      <td>956</td>\n",
              "    </tr>\n",
              "    <tr>\n",
              "      <th>172130</th>\n",
              "      <th>Tupiratins</th>\n",
              "      <td>935</td>\n",
              "    </tr>\n",
              "    <tr>\n",
              "      <th>172208</th>\n",
              "      <th>Wanderlândia</th>\n",
              "      <td>4349</td>\n",
              "    </tr>\n",
              "    <tr>\n",
              "      <th>172210</th>\n",
              "      <th>Xambioá</th>\n",
              "      <td>6082</td>\n",
              "    </tr>\n",
              "  </tbody>\n",
              "</table>\n",
              "<p>5570 rows × 1 columns</p>\n",
              "</div>"
            ],
            "text/plain": [
              "                             Dose 1\n",
              "UF Cód. IBGE Município             \n",
              "AC 120001    Acrelândia        7178\n",
              "   120005    Assis Brasil      5211\n",
              "   120010    Brasiléia        12459\n",
              "   120013    Bujari            6741\n",
              "   120017    Capixaba          4470\n",
              "...                             ...\n",
              "TO 172120    Tocantinópolis   11534\n",
              "   172125    Tupirama           956\n",
              "   172130    Tupiratins         935\n",
              "   172208    Wanderlândia      4349\n",
              "   172210    Xambioá           6082\n",
              "\n",
              "[5570 rows x 1 columns]"
            ]
          },
          "metadata": {}
        }
      ]
    },
    {
      "cell_type": "markdown",
      "metadata": {
        "id": "3590d1b0"
      },
      "source": [
        "TOTAL SEGUNDA DOSE APLICADAS - MUNICÍPIOS"
      ],
      "id": "3590d1b0"
    },
    {
      "cell_type": "code",
      "metadata": {
        "colab": {
          "base_uri": "https://localhost:8080/",
          "height": 450
        },
        "id": "ac4cfc96",
        "outputId": "2cc5ccaa-fe40-40b8-c55f-c2bff1239722"
      },
      "source": [
        "#Função Municipio - 1 e 2 doses por municipios\n",
        "display(vacina.soma_municipios('Município','Dose 2'))"
      ],
      "id": "ac4cfc96",
      "execution_count": 19,
      "outputs": [
        {
          "output_type": "display_data",
          "data": {
            "text/html": [
              "<div>\n",
              "<style scoped>\n",
              "    .dataframe tbody tr th:only-of-type {\n",
              "        vertical-align: middle;\n",
              "    }\n",
              "\n",
              "    .dataframe tbody tr th {\n",
              "        vertical-align: top;\n",
              "    }\n",
              "\n",
              "    .dataframe thead th {\n",
              "        text-align: right;\n",
              "    }\n",
              "</style>\n",
              "<table border=\"1\" class=\"dataframe\">\n",
              "  <thead>\n",
              "    <tr style=\"text-align: right;\">\n",
              "      <th></th>\n",
              "      <th></th>\n",
              "      <th></th>\n",
              "      <th>Dose 2</th>\n",
              "    </tr>\n",
              "    <tr>\n",
              "      <th>UF</th>\n",
              "      <th>Cód. IBGE</th>\n",
              "      <th>Município</th>\n",
              "      <th></th>\n",
              "    </tr>\n",
              "  </thead>\n",
              "  <tbody>\n",
              "    <tr>\n",
              "      <th rowspan=\"5\" valign=\"top\">AC</th>\n",
              "      <th>120001</th>\n",
              "      <th>Acrelândia</th>\n",
              "      <td>3508</td>\n",
              "    </tr>\n",
              "    <tr>\n",
              "      <th>120005</th>\n",
              "      <th>Assis Brasil</th>\n",
              "      <td>2868</td>\n",
              "    </tr>\n",
              "    <tr>\n",
              "      <th>120010</th>\n",
              "      <th>Brasiléia</th>\n",
              "      <td>4799</td>\n",
              "    </tr>\n",
              "    <tr>\n",
              "      <th>120013</th>\n",
              "      <th>Bujari</th>\n",
              "      <td>2813</td>\n",
              "    </tr>\n",
              "    <tr>\n",
              "      <th>120017</th>\n",
              "      <th>Capixaba</th>\n",
              "      <td>2343</td>\n",
              "    </tr>\n",
              "    <tr>\n",
              "      <th>...</th>\n",
              "      <th>...</th>\n",
              "      <th>...</th>\n",
              "      <td>...</td>\n",
              "    </tr>\n",
              "    <tr>\n",
              "      <th rowspan=\"5\" valign=\"top\">TO</th>\n",
              "      <th>172120</th>\n",
              "      <th>Tocantinópolis</th>\n",
              "      <td>4656</td>\n",
              "    </tr>\n",
              "    <tr>\n",
              "      <th>172125</th>\n",
              "      <th>Tupirama</th>\n",
              "      <td>316</td>\n",
              "    </tr>\n",
              "    <tr>\n",
              "      <th>172130</th>\n",
              "      <th>Tupiratins</th>\n",
              "      <td>325</td>\n",
              "    </tr>\n",
              "    <tr>\n",
              "      <th>172208</th>\n",
              "      <th>Wanderlândia</th>\n",
              "      <td>1659</td>\n",
              "    </tr>\n",
              "    <tr>\n",
              "      <th>172210</th>\n",
              "      <th>Xambioá</th>\n",
              "      <td>2259</td>\n",
              "    </tr>\n",
              "  </tbody>\n",
              "</table>\n",
              "<p>5570 rows × 1 columns</p>\n",
              "</div>"
            ],
            "text/plain": [
              "                             Dose 2\n",
              "UF Cód. IBGE Município             \n",
              "AC 120001    Acrelândia        3508\n",
              "   120005    Assis Brasil      2868\n",
              "   120010    Brasiléia         4799\n",
              "   120013    Bujari            2813\n",
              "   120017    Capixaba          2343\n",
              "...                             ...\n",
              "TO 172120    Tocantinópolis    4656\n",
              "   172125    Tupirama           316\n",
              "   172130    Tupiratins         325\n",
              "   172208    Wanderlândia      1659\n",
              "   172210    Xambioá           2259\n",
              "\n",
              "[5570 rows x 1 columns]"
            ]
          },
          "metadata": {}
        }
      ]
    },
    {
      "cell_type": "markdown",
      "metadata": {
        "id": "492373c4"
      },
      "source": [
        "PRIMEIRA DOSE APLICADA - ESTADO ESPECÍFICO "
      ],
      "id": "492373c4"
    },
    {
      "cell_type": "code",
      "metadata": {
        "colab": {
          "base_uri": "https://localhost:8080/",
          "height": 51
        },
        "id": "61347952",
        "outputId": "28b4ebcf-547a-4145-9616-9883628e34b3"
      },
      "source": [
        "#Primeira e segunda dose por estado especifico\n",
        "display(vacina.doses_estado('BA', 'Doses Aplicadas'))"
      ],
      "id": "61347952",
      "execution_count": 20,
      "outputs": [
        {
          "output_type": "display_data",
          "data": {
            "text/plain": [
              "Doses Aplicadas    10770821\n",
              "dtype: int64"
            ]
          },
          "metadata": {}
        }
      ]
    },
    {
      "cell_type": "markdown",
      "metadata": {
        "id": "7a09635e"
      },
      "source": [
        "SEGUNDA DOSE APLICADA - ESTADO ESPECÍFICO"
      ],
      "id": "7a09635e"
    },
    {
      "cell_type": "code",
      "metadata": {
        "colab": {
          "base_uri": "https://localhost:8080/",
          "height": 51
        },
        "id": "20c5b51a",
        "outputId": "04688994-e932-4245-8340-ca1bdb710b98"
      },
      "source": [
        "#Primeira e segunda dose por estado especifico\n",
        "display(vacina.doses_estado('BA', 'Dose 2'))"
      ],
      "id": "20c5b51a",
      "execution_count": 21,
      "outputs": [
        {
          "output_type": "display_data",
          "data": {
            "text/plain": [
              "Dose 2    3014953\n",
              "dtype: int64"
            ]
          },
          "metadata": {}
        }
      ]
    },
    {
      "cell_type": "markdown",
      "metadata": {
        "id": "615fbf64"
      },
      "source": [
        "MUNICÍPIO COM MAIOR APLICAÇÃO DE PRIMEIRA DOSE"
      ],
      "id": "615fbf64"
    },
    {
      "cell_type": "code",
      "metadata": {
        "colab": {
          "base_uri": "https://localhost:8080/",
          "height": 35
        },
        "id": "2092af20",
        "outputId": "0a3aba25-1848-4af4-f713-cc8b11ef3edb"
      },
      "source": [
        "display(vacina.max_municipio('SP'))\n"
      ],
      "id": "2092af20",
      "execution_count": 22,
      "outputs": [
        {
          "output_type": "display_data",
          "data": {
            "application/vnd.google.colaboratory.intrinsic+json": {
              "type": "string"
            },
            "text/plain": [
              "'São Paulo'"
            ]
          },
          "metadata": {}
        }
      ]
    },
    {
      "cell_type": "markdown",
      "metadata": {
        "id": "e9c5f837"
      },
      "source": [
        "MUNICÍPIO COM MENOR APLICAÇÃO DE PRIMEIRA DOSE"
      ],
      "id": "e9c5f837"
    },
    {
      "cell_type": "code",
      "metadata": {
        "colab": {
          "base_uri": "https://localhost:8080/",
          "height": 35
        },
        "id": "c719ea86",
        "outputId": "2ee82458-8ad1-4f5e-c267-b9e8f233260d"
      },
      "source": [
        "display(vacina.min_municipio('SP'))"
      ],
      "id": "c719ea86",
      "execution_count": 23,
      "outputs": [
        {
          "output_type": "display_data",
          "data": {
            "application/vnd.google.colaboratory.intrinsic+json": {
              "type": "string"
            },
            "text/plain": [
              "'Borá'"
            ]
          },
          "metadata": {}
        }
      ]
    },
    {
      "cell_type": "markdown",
      "metadata": {
        "id": "3b99f292"
      },
      "source": [
        "VACINA MAIS APLICADA ESTADO ESPECÍFICO"
      ],
      "id": "3b99f292"
    },
    {
      "cell_type": "code",
      "metadata": {
        "colab": {
          "base_uri": "https://localhost:8080/",
          "height": 35
        },
        "id": "a6c9973f",
        "outputId": "e3ea25b6-f074-423f-9f45-fe3b71d1ec06"
      },
      "source": [
        "display(vacina.max_fabricante('RJ'))"
      ],
      "id": "a6c9973f",
      "execution_count": 24,
      "outputs": [
        {
          "output_type": "display_data",
          "data": {
            "application/vnd.google.colaboratory.intrinsic+json": {
              "type": "string"
            },
            "text/plain": [
              "'FIOCRUZ/ASTRAZENECA'"
            ]
          },
          "metadata": {}
        }
      ]
    },
    {
      "cell_type": "markdown",
      "metadata": {
        "id": "d89bc0c8"
      },
      "source": [
        "VACINA MENOS APLICADA ESTADO ESPECÍFICO"
      ],
      "id": "d89bc0c8"
    },
    {
      "cell_type": "code",
      "metadata": {
        "colab": {
          "base_uri": "https://localhost:8080/",
          "height": 35
        },
        "id": "7285d3d3",
        "outputId": "6c737f65-074f-4d9f-ed04-9bf5dba1d776"
      },
      "source": [
        "display(vacina.min_fabricante('SP'))"
      ],
      "id": "7285d3d3",
      "execution_count": 25,
      "outputs": [
        {
          "output_type": "display_data",
          "data": {
            "application/vnd.google.colaboratory.intrinsic+json": {
              "type": "string"
            },
            "text/plain": [
              "'JANSSEN'"
            ]
          },
          "metadata": {}
        }
      ]
    },
    {
      "cell_type": "markdown",
      "metadata": {
        "id": "575e4b1d"
      },
      "source": [
        "MÉDIA APLICAÇÃO POR ESTADO"
      ],
      "id": "575e4b1d"
    },
    {
      "cell_type": "code",
      "metadata": {
        "colab": {
          "base_uri": "https://localhost:8080/",
          "height": 51
        },
        "id": "6b15556e",
        "outputId": "c08b62fc-4c55-4835-bd26-5f0f27110bc9"
      },
      "source": [
        "display(vacina.media_estado_dose2('UF'))"
      ],
      "id": "6b15556e",
      "execution_count": 26,
      "outputs": [
        {
          "output_type": "display_data",
          "data": {
            "text/plain": [
              "Dose 2    2444.3\n",
              "dtype: float64"
            ]
          },
          "metadata": {}
        }
      ]
    },
    {
      "cell_type": "markdown",
      "metadata": {
        "id": "1345706d"
      },
      "source": [
        "MÉDIA APLICAÇÃO DOSE 1 E 2 - ESTADO"
      ],
      "id": "1345706d"
    },
    {
      "cell_type": "code",
      "metadata": {
        "scrolled": true,
        "colab": {
          "base_uri": "https://localhost:8080/",
          "height": 68
        },
        "id": "19cea61e",
        "outputId": "348a9b61-c192-41f9-bd99-663135fb1102"
      },
      "source": [
        "display(vacina.media_estado('UF'))"
      ],
      "id": "19cea61e",
      "execution_count": 27,
      "outputs": [
        {
          "output_type": "display_data",
          "data": {
            "text/plain": [
              "Dose 1    5706.1\n",
              "Dose 2    2444.3\n",
              "dtype: float64"
            ]
          },
          "metadata": {}
        }
      ]
    },
    {
      "cell_type": "markdown",
      "metadata": {
        "id": "d1b9fa40"
      },
      "source": [
        "MÉDIA SEGUNDA DOSE GERAL - ESTADO"
      ],
      "id": "d1b9fa40"
    },
    {
      "cell_type": "code",
      "metadata": {
        "colab": {
          "base_uri": "https://localhost:8080/",
          "height": 917
        },
        "id": "79a0cd20",
        "outputId": "f2da57d5-839a-402c-b40b-ed94deb27f98"
      },
      "source": [
        "display(vacina.media_estado_geral())\n",
        "\n"
      ],
      "id": "79a0cd20",
      "execution_count": 28,
      "outputs": [
        {
          "output_type": "display_data",
          "data": {
            "text/html": [
              "<div>\n",
              "<style scoped>\n",
              "    .dataframe tbody tr th:only-of-type {\n",
              "        vertical-align: middle;\n",
              "    }\n",
              "\n",
              "    .dataframe tbody tr th {\n",
              "        vertical-align: top;\n",
              "    }\n",
              "\n",
              "    .dataframe thead th {\n",
              "        text-align: right;\n",
              "    }\n",
              "</style>\n",
              "<table border=\"1\" class=\"dataframe\">\n",
              "  <thead>\n",
              "    <tr style=\"text-align: right;\">\n",
              "      <th></th>\n",
              "      <th>Dose 2</th>\n",
              "    </tr>\n",
              "    <tr>\n",
              "      <th>UF</th>\n",
              "      <th></th>\n",
              "    </tr>\n",
              "  </thead>\n",
              "  <tbody>\n",
              "    <tr>\n",
              "      <th>AC</th>\n",
              "      <td>2201.8</td>\n",
              "    </tr>\n",
              "    <tr>\n",
              "      <th>AL</th>\n",
              "      <td>2101.5</td>\n",
              "    </tr>\n",
              "    <tr>\n",
              "      <th>AM</th>\n",
              "      <td>3699.3</td>\n",
              "    </tr>\n",
              "    <tr>\n",
              "      <th>AP</th>\n",
              "      <td>1922.1</td>\n",
              "    </tr>\n",
              "    <tr>\n",
              "      <th>BA</th>\n",
              "      <td>1816.2</td>\n",
              "    </tr>\n",
              "    <tr>\n",
              "      <th>CE</th>\n",
              "      <td>2650.8</td>\n",
              "    </tr>\n",
              "    <tr>\n",
              "      <th>DF</th>\n",
              "      <td>175904.8</td>\n",
              "    </tr>\n",
              "    <tr>\n",
              "      <th>ES</th>\n",
              "      <td>3802.1</td>\n",
              "    </tr>\n",
              "    <tr>\n",
              "      <th>GO</th>\n",
              "      <td>1662.5</td>\n",
              "    </tr>\n",
              "    <tr>\n",
              "      <th>MA</th>\n",
              "      <td>1606.2</td>\n",
              "    </tr>\n",
              "    <tr>\n",
              "      <th>MG</th>\n",
              "      <td>1457.6</td>\n",
              "    </tr>\n",
              "    <tr>\n",
              "      <th>MS</th>\n",
              "      <td>3131.3</td>\n",
              "    </tr>\n",
              "    <tr>\n",
              "      <th>MT</th>\n",
              "      <td>1279.5</td>\n",
              "    </tr>\n",
              "    <tr>\n",
              "      <th>PA</th>\n",
              "      <td>2797.2</td>\n",
              "    </tr>\n",
              "    <tr>\n",
              "      <th>PB</th>\n",
              "      <td>1022.8</td>\n",
              "    </tr>\n",
              "    <tr>\n",
              "      <th>PE</th>\n",
              "      <td>2679.8</td>\n",
              "    </tr>\n",
              "    <tr>\n",
              "      <th>PI</th>\n",
              "      <td>817.9</td>\n",
              "    </tr>\n",
              "    <tr>\n",
              "      <th>PR</th>\n",
              "      <td>1877.8</td>\n",
              "    </tr>\n",
              "    <tr>\n",
              "      <th>RJ</th>\n",
              "      <td>12482.0</td>\n",
              "    </tr>\n",
              "    <tr>\n",
              "      <th>RN</th>\n",
              "      <td>1260.5</td>\n",
              "    </tr>\n",
              "    <tr>\n",
              "      <th>RO</th>\n",
              "      <td>1742.2</td>\n",
              "    </tr>\n",
              "    <tr>\n",
              "      <th>RR</th>\n",
              "      <td>1501.3</td>\n",
              "    </tr>\n",
              "    <tr>\n",
              "      <th>RS</th>\n",
              "      <td>1901.2</td>\n",
              "    </tr>\n",
              "    <tr>\n",
              "      <th>SC</th>\n",
              "      <td>1655.7</td>\n",
              "    </tr>\n",
              "    <tr>\n",
              "      <th>SE</th>\n",
              "      <td>1354.5</td>\n",
              "    </tr>\n",
              "    <tr>\n",
              "      <th>SP</th>\n",
              "      <td>5908.8</td>\n",
              "    </tr>\n",
              "    <tr>\n",
              "      <th>TO</th>\n",
              "      <td>581.4</td>\n",
              "    </tr>\n",
              "  </tbody>\n",
              "</table>\n",
              "</div>"
            ],
            "text/plain": [
              "      Dose 2\n",
              "UF          \n",
              "AC    2201.8\n",
              "AL    2101.5\n",
              "AM    3699.3\n",
              "AP    1922.1\n",
              "BA    1816.2\n",
              "CE    2650.8\n",
              "DF  175904.8\n",
              "ES    3802.1\n",
              "GO    1662.5\n",
              "MA    1606.2\n",
              "MG    1457.6\n",
              "MS    3131.3\n",
              "MT    1279.5\n",
              "PA    2797.2\n",
              "PB    1022.8\n",
              "PE    2679.8\n",
              "PI     817.9\n",
              "PR    1877.8\n",
              "RJ   12482.0\n",
              "RN    1260.5\n",
              "RO    1742.2\n",
              "RR    1501.3\n",
              "RS    1901.2\n",
              "SC    1655.7\n",
              "SE    1354.5\n",
              "SP    5908.8\n",
              "TO     581.4"
            ]
          },
          "metadata": {}
        }
      ]
    },
    {
      "cell_type": "markdown",
      "metadata": {
        "id": "b95abc1d"
      },
      "source": [
        "PRIMEIRA DOSE CAPITAL"
      ],
      "id": "b95abc1d"
    },
    {
      "cell_type": "code",
      "metadata": {
        "colab": {
          "base_uri": "https://localhost:8080/",
          "height": 51
        },
        "id": "28b13e5a",
        "outputId": "5cb8eede-1acd-42d3-95ad-094e44986f32"
      },
      "source": [
        "display(vacina.total_capital('Salvador', 'Dose 1'))\n"
      ],
      "id": "28b13e5a",
      "execution_count": 29,
      "outputs": [
        {
          "output_type": "display_data",
          "data": {
            "text/plain": [
              "Dose 1    1789090\n",
              "dtype: int64"
            ]
          },
          "metadata": {}
        }
      ]
    },
    {
      "cell_type": "markdown",
      "metadata": {
        "id": "eb99a06e"
      },
      "source": [
        "SEGUNDO DOSE CAPITAL"
      ],
      "id": "eb99a06e"
    },
    {
      "cell_type": "code",
      "metadata": {
        "colab": {
          "base_uri": "https://localhost:8080/",
          "height": 51
        },
        "id": "9b6b0c74",
        "outputId": "10023701-6f13-41bc-83de-3900d7472041"
      },
      "source": [
        "display(vacina.total_capital('Salvador', 'Dose 2'))"
      ],
      "id": "9b6b0c74",
      "execution_count": 30,
      "outputs": [
        {
          "output_type": "display_data",
          "data": {
            "text/plain": [
              "Dose 2    764388\n",
              "dtype: int64"
            ]
          },
          "metadata": {}
        }
      ]
    },
    {
      "cell_type": "markdown",
      "metadata": {
        "id": "46b99181"
      },
      "source": [
        "TOTAL DOSES APLICADAS CAPITAL"
      ],
      "id": "46b99181"
    },
    {
      "cell_type": "code",
      "metadata": {
        "colab": {
          "base_uri": "https://localhost:8080/",
          "height": 51
        },
        "id": "a841a184",
        "outputId": "b11297a2-2d0c-487a-bc90-615073e431fe"
      },
      "source": [
        "display(vacina.total_capital('Salvador', 'Doses Aplicadas'))"
      ],
      "id": "a841a184",
      "execution_count": 31,
      "outputs": [
        {
          "output_type": "display_data",
          "data": {
            "text/plain": [
              "Doses Aplicadas    2634693\n",
              "dtype: int64"
            ]
          },
          "metadata": {}
        }
      ]
    },
    {
      "cell_type": "markdown",
      "metadata": {
        "id": "655f461b"
      },
      "source": [
        "MÉDIA DE APLICAÇÃO DA 2 DOSE POR ESTADO"
      ],
      "id": "655f461b"
    },
    {
      "cell_type": "code",
      "metadata": {
        "colab": {
          "base_uri": "https://localhost:8080/",
          "height": 433
        },
        "id": "17cbdc62",
        "outputId": "c7ff1e50-71f8-4cb0-e21f-ca6109bc48fc"
      },
      "source": [
        "media_estado = grafico.media_estado_geral()\n",
        "plt.figure(figsize=(20,10))\n",
        "plt.plot(media_estado['Dose 2'], label = 'DOSES', color = 'm', lw = '2')\n",
        "plt.legend(loc=2, fontsize=12)\n",
        "plt.ylabel('Média segunda Dose',fontsize=14)\n",
        "plt.xlabel('Estados',fontsize=14)\n",
        "plt.title('Gráfico de Média de Aplicação da 2 Dose por Estado',fontsize=14)\n",
        "plt.show()"
      ],
      "id": "17cbdc62",
      "execution_count": 32,
      "outputs": [
        {
          "output_type": "display_data",
          "data": {
            "image/png": "[encoded data removed]",
            "text/plain": [
              "<Figure size 1440x720 with 1 Axes>"
            ]
          },
          "metadata": {
            "needs_background": "light"
          }
        }
      ]
    },
    {
      "cell_type": "markdown",
      "metadata": {
        "id": "001778ce"
      },
      "source": [
        "MÉDIA DE APLICAÇÃO DA 1 E 2 DOSE POR ESTADO"
      ],
      "id": "001778ce"
    },
    {
      "cell_type": "code",
      "metadata": {
        "colab": {
          "base_uri": "https://localhost:8080/",
          "height": 432
        },
        "id": "76ecf456",
        "outputId": "bb788a38-6185-4616-dfe0-01274837dd6e"
      },
      "source": [
        "media_estado = grafico.media_estado_geral1()\n",
        "media_estado2 = grafico.media_estado_geral()\n",
        "plt.figure(figsize=(20,10))\n",
        "plt.plot(media_estado['Dose 1'],label='Dose 1',ls='--',color = 'b', lw = '3')\n",
        "plt.plot(media_estado2['Dose 2'],label='Dose 2',ls='--',color = 'r', lw = '2')\n",
        "plt.legend(loc=2, fontsize=14)\n",
        "plt.ylabel('Média primeira Dose', fontsize=14)\n",
        "plt.xlabel('Estados',fontsize=14)\n",
        "plt.title('Gráfico de Média de Aplicação da 1 e 2 Dose por Estado')\n",
        "\n",
        "\n",
        "plt.show()"
      ],
      "id": "76ecf456",
      "execution_count": 33,
      "outputs": [
        {
          "output_type": "display_data",
          "data": {
            "image/png": "[encoded data removed]",
            "text/plain": [
              "<Figure size 1440x720 with 1 Axes>"
            ]
          },
          "metadata": {
            "needs_background": "light"
          }
        }
      ]
    },
    {
      "cell_type": "markdown",
      "metadata": {
        "id": "8c798e9f"
      },
      "source": [
        "TOTAL 1  DOSE POR CAPITAL"
      ],
      "id": "8c798e9f"
    },
    {
      "cell_type": "code",
      "metadata": {
        "colab": {
          "base_uri": "https://localhost:8080/",
          "height": 917
        },
        "id": "7db0130e",
        "outputId": "73c1eea1-2e65-435a-d3db-2a5441b7ecd5"
      },
      "source": [
        "total1 = grafico.codigo_capital('Dose 1')\n",
        "total1 = total1.sort_values(by=['Dose 1'], ascending=False)\n",
        "display(total1)"
      ],
      "id": "7db0130e",
      "execution_count": 34,
      "outputs": [
        {
          "output_type": "display_data",
          "data": {
            "text/html": [
              "<div>\n",
              "<style scoped>\n",
              "    .dataframe tbody tr th:only-of-type {\n",
              "        vertical-align: middle;\n",
              "    }\n",
              "\n",
              "    .dataframe tbody tr th {\n",
              "        vertical-align: top;\n",
              "    }\n",
              "\n",
              "    .dataframe thead th {\n",
              "        text-align: right;\n",
              "    }\n",
              "</style>\n",
              "<table border=\"1\" class=\"dataframe\">\n",
              "  <thead>\n",
              "    <tr style=\"text-align: right;\">\n",
              "      <th></th>\n",
              "      <th>Dose 1</th>\n",
              "    </tr>\n",
              "    <tr>\n",
              "      <th>Município</th>\n",
              "      <th></th>\n",
              "    </tr>\n",
              "  </thead>\n",
              "  <tbody>\n",
              "    <tr>\n",
              "      <th>São Paulo</th>\n",
              "      <td>9428542</td>\n",
              "    </tr>\n",
              "    <tr>\n",
              "      <th>Rio De Janeiro</th>\n",
              "      <td>5003961</td>\n",
              "    </tr>\n",
              "    <tr>\n",
              "      <th>Fortaleza</th>\n",
              "      <td>1957245</td>\n",
              "    </tr>\n",
              "    <tr>\n",
              "      <th>Brasília</th>\n",
              "      <td>1877153</td>\n",
              "    </tr>\n",
              "    <tr>\n",
              "      <th>Salvador</th>\n",
              "      <td>1789090</td>\n",
              "    </tr>\n",
              "    <tr>\n",
              "      <th>Belo Horizonte</th>\n",
              "      <td>1771165</td>\n",
              "    </tr>\n",
              "    <tr>\n",
              "      <th>Manaus</th>\n",
              "      <td>1430850</td>\n",
              "    </tr>\n",
              "    <tr>\n",
              "      <th>Curitiba</th>\n",
              "      <td>1282445</td>\n",
              "    </tr>\n",
              "    <tr>\n",
              "      <th>Porto Alegre</th>\n",
              "      <td>1012012</td>\n",
              "    </tr>\n",
              "    <tr>\n",
              "      <th>Recife</th>\n",
              "      <td>957955</td>\n",
              "    </tr>\n",
              "    <tr>\n",
              "      <th>Goiânia</th>\n",
              "      <td>902941</td>\n",
              "    </tr>\n",
              "    <tr>\n",
              "      <th>Belém</th>\n",
              "      <td>894531</td>\n",
              "    </tr>\n",
              "    <tr>\n",
              "      <th>São Luís</th>\n",
              "      <td>806928</td>\n",
              "    </tr>\n",
              "    <tr>\n",
              "      <th>Campo Grande</th>\n",
              "      <td>657712</td>\n",
              "    </tr>\n",
              "    <tr>\n",
              "      <th>Maceió</th>\n",
              "      <td>629224</td>\n",
              "    </tr>\n",
              "    <tr>\n",
              "      <th>Natal</th>\n",
              "      <td>543699</td>\n",
              "    </tr>\n",
              "    <tr>\n",
              "      <th>João Pessoa</th>\n",
              "      <td>532328</td>\n",
              "    </tr>\n",
              "    <tr>\n",
              "      <th>Teresina</th>\n",
              "      <td>523176</td>\n",
              "    </tr>\n",
              "    <tr>\n",
              "      <th>Aracaju</th>\n",
              "      <td>424739</td>\n",
              "    </tr>\n",
              "    <tr>\n",
              "      <th>Florianópolis</th>\n",
              "      <td>387911</td>\n",
              "    </tr>\n",
              "    <tr>\n",
              "      <th>Cuiabá</th>\n",
              "      <td>359134</td>\n",
              "    </tr>\n",
              "    <tr>\n",
              "      <th>Porto Velho</th>\n",
              "      <td>306329</td>\n",
              "    </tr>\n",
              "    <tr>\n",
              "      <th>Vitória</th>\n",
              "      <td>279826</td>\n",
              "    </tr>\n",
              "    <tr>\n",
              "      <th>Macapá</th>\n",
              "      <td>241805</td>\n",
              "    </tr>\n",
              "    <tr>\n",
              "      <th>Rio Branco</th>\n",
              "      <td>224604</td>\n",
              "    </tr>\n",
              "    <tr>\n",
              "      <th>Boa Vista</th>\n",
              "      <td>200317</td>\n",
              "    </tr>\n",
              "    <tr>\n",
              "      <th>Palmas</th>\n",
              "      <td>176735</td>\n",
              "    </tr>\n",
              "  </tbody>\n",
              "</table>\n",
              "</div>"
            ],
            "text/plain": [
              "                 Dose 1\n",
              "Município              \n",
              "São Paulo       9428542\n",
              "Rio De Janeiro  5003961\n",
              "Fortaleza       1957245\n",
              "Brasília        1877153\n",
              "Salvador        1789090\n",
              "Belo Horizonte  1771165\n",
              "Manaus          1430850\n",
              "Curitiba        1282445\n",
              "Porto Alegre    1012012\n",
              "Recife           957955\n",
              "Goiânia          902941\n",
              "Belém            894531\n",
              "São Luís         806928\n",
              "Campo Grande     657712\n",
              "Maceió           629224\n",
              "Natal            543699\n",
              "João Pessoa      532328\n",
              "Teresina         523176\n",
              "Aracaju          424739\n",
              "Florianópolis    387911\n",
              "Cuiabá           359134\n",
              "Porto Velho      306329\n",
              "Vitória          279826\n",
              "Macapá           241805\n",
              "Rio Branco       224604\n",
              "Boa Vista        200317\n",
              "Palmas           176735"
            ]
          },
          "metadata": {}
        }
      ]
    },
    {
      "cell_type": "markdown",
      "metadata": {
        "id": "9d5c27d8"
      },
      "source": [
        "Gráfico de Aplicação da 1 e 2 Dose por CAPITAL"
      ],
      "id": "9d5c27d8"
    },
    {
      "cell_type": "markdown",
      "metadata": {
        "id": "54317013"
      },
      "source": [
        "GRÁFICO DA APLICAÇÃO DA 1 DOSE POR CAPITAL"
      ],
      "id": "54317013"
    },
    {
      "cell_type": "code",
      "metadata": {
        "colab": {
          "base_uri": "https://localhost:8080/",
          "height": 445
        },
        "id": "0abb6acf",
        "outputId": "04747ec0-d3bb-412d-ed70-8bfa4575efdb"
      },
      "source": [
        "df1 = grafico.codigo_capital('Dose 1')\n",
        "plt.figure(figsize=(35,18))\n",
        "plt.plot(df1['Dose 1'], label = 'DOSES CAPITAL', color = 'm', lw = '2')\n",
        "plt.legend(loc=2, fontsize=12)\n",
        "plt.ylabel('Total 1 Dose Capital',fontsize=20)\n",
        "plt.xlabel('TOTAL APLICAÇÕES',fontsize=15 )\n",
        "plt.title('Gráfico de Aplicação da 1 Dose por Capital', fontsize=20)\n",
        "plt.show()"
      ],
      "id": "0abb6acf",
      "execution_count": 35,
      "outputs": [
        {
          "output_type": "display_data",
          "data": {
            "image/png": "[encoded data removed]",
            "text/plain": [
              "<Figure size 2520x1296 with 1 Axes>"
            ]
          },
          "metadata": {
            "needs_background": "light"
          }
        }
      ]
    },
    {
      "cell_type": "markdown",
      "metadata": {
        "id": "0187b5f5"
      },
      "source": [
        "TOTAL APLICAÇÃO 2 DOSE POR CAPITAL"
      ],
      "id": "0187b5f5"
    },
    {
      "cell_type": "code",
      "metadata": {
        "colab": {
          "base_uri": "https://localhost:8080/",
          "height": 917
        },
        "id": "f8995044",
        "outputId": "2b836cf7-c06a-4d7b-bea5-4e8d6b334f5f"
      },
      "source": [
        "total2 = grafico.codigo_capital('Dose 2')\n",
        "total2 = total2.sort_values(by=['Dose 2'], ascending=False)\n",
        "display(total2)\n"
      ],
      "id": "f8995044",
      "execution_count": 36,
      "outputs": [
        {
          "output_type": "display_data",
          "data": {
            "text/html": [
              "<div>\n",
              "<style scoped>\n",
              "    .dataframe tbody tr th:only-of-type {\n",
              "        vertical-align: middle;\n",
              "    }\n",
              "\n",
              "    .dataframe tbody tr th {\n",
              "        vertical-align: top;\n",
              "    }\n",
              "\n",
              "    .dataframe thead th {\n",
              "        text-align: right;\n",
              "    }\n",
              "</style>\n",
              "<table border=\"1\" class=\"dataframe\">\n",
              "  <thead>\n",
              "    <tr style=\"text-align: right;\">\n",
              "      <th></th>\n",
              "      <th>Dose 2</th>\n",
              "    </tr>\n",
              "    <tr>\n",
              "      <th>Município</th>\n",
              "      <th></th>\n",
              "    </tr>\n",
              "  </thead>\n",
              "  <tbody>\n",
              "    <tr>\n",
              "      <th>São Paulo</th>\n",
              "      <td>4599633</td>\n",
              "    </tr>\n",
              "    <tr>\n",
              "      <th>Rio De Janeiro</th>\n",
              "      <td>2445219</td>\n",
              "    </tr>\n",
              "    <tr>\n",
              "      <th>Belo Horizonte</th>\n",
              "      <td>884648</td>\n",
              "    </tr>\n",
              "    <tr>\n",
              "      <th>Salvador</th>\n",
              "      <td>764388</td>\n",
              "    </tr>\n",
              "    <tr>\n",
              "      <th>Fortaleza</th>\n",
              "      <td>751850</td>\n",
              "    </tr>\n",
              "    <tr>\n",
              "      <th>Brasília</th>\n",
              "      <td>703619</td>\n",
              "    </tr>\n",
              "    <tr>\n",
              "      <th>Porto Alegre</th>\n",
              "      <td>604620</td>\n",
              "    </tr>\n",
              "    <tr>\n",
              "      <th>Curitiba</th>\n",
              "      <td>588190</td>\n",
              "    </tr>\n",
              "    <tr>\n",
              "      <th>Manaus</th>\n",
              "      <td>442323</td>\n",
              "    </tr>\n",
              "    <tr>\n",
              "      <th>Goiânia</th>\n",
              "      <td>420410</td>\n",
              "    </tr>\n",
              "    <tr>\n",
              "      <th>Recife</th>\n",
              "      <td>396141</td>\n",
              "    </tr>\n",
              "    <tr>\n",
              "      <th>Belém</th>\n",
              "      <td>372569</td>\n",
              "    </tr>\n",
              "    <tr>\n",
              "      <th>Campo Grande</th>\n",
              "      <td>367136</td>\n",
              "    </tr>\n",
              "    <tr>\n",
              "      <th>São Luís</th>\n",
              "      <td>327917</td>\n",
              "    </tr>\n",
              "    <tr>\n",
              "      <th>Maceió</th>\n",
              "      <td>277058</td>\n",
              "    </tr>\n",
              "    <tr>\n",
              "      <th>Teresina</th>\n",
              "      <td>233527</td>\n",
              "    </tr>\n",
              "    <tr>\n",
              "      <th>João Pessoa</th>\n",
              "      <td>232081</td>\n",
              "    </tr>\n",
              "    <tr>\n",
              "      <th>Natal</th>\n",
              "      <td>222291</td>\n",
              "    </tr>\n",
              "    <tr>\n",
              "      <th>Florianópolis</th>\n",
              "      <td>187575</td>\n",
              "    </tr>\n",
              "    <tr>\n",
              "      <th>Vitória</th>\n",
              "      <td>179800</td>\n",
              "    </tr>\n",
              "    <tr>\n",
              "      <th>Aracaju</th>\n",
              "      <td>161945</td>\n",
              "    </tr>\n",
              "    <tr>\n",
              "      <th>Cuiabá</th>\n",
              "      <td>157458</td>\n",
              "    </tr>\n",
              "    <tr>\n",
              "      <th>Porto Velho</th>\n",
              "      <td>118020</td>\n",
              "    </tr>\n",
              "    <tr>\n",
              "      <th>Rio Branco</th>\n",
              "      <td>81401</td>\n",
              "    </tr>\n",
              "    <tr>\n",
              "      <th>Macapá</th>\n",
              "      <td>70450</td>\n",
              "    </tr>\n",
              "    <tr>\n",
              "      <th>Palmas</th>\n",
              "      <td>62962</td>\n",
              "    </tr>\n",
              "    <tr>\n",
              "      <th>Boa Vista</th>\n",
              "      <td>53044</td>\n",
              "    </tr>\n",
              "  </tbody>\n",
              "</table>\n",
              "</div>"
            ],
            "text/plain": [
              "                 Dose 2\n",
              "Município              \n",
              "São Paulo       4599633\n",
              "Rio De Janeiro  2445219\n",
              "Belo Horizonte   884648\n",
              "Salvador         764388\n",
              "Fortaleza        751850\n",
              "Brasília         703619\n",
              "Porto Alegre     604620\n",
              "Curitiba         588190\n",
              "Manaus           442323\n",
              "Goiânia          420410\n",
              "Recife           396141\n",
              "Belém            372569\n",
              "Campo Grande     367136\n",
              "São Luís         327917\n",
              "Maceió           277058\n",
              "Teresina         233527\n",
              "João Pessoa      232081\n",
              "Natal            222291\n",
              "Florianópolis    187575\n",
              "Vitória          179800\n",
              "Aracaju          161945\n",
              "Cuiabá           157458\n",
              "Porto Velho      118020\n",
              "Rio Branco        81401\n",
              "Macapá            70450\n",
              "Palmas            62962\n",
              "Boa Vista         53044"
            ]
          },
          "metadata": {}
        }
      ]
    },
    {
      "cell_type": "code",
      "metadata": {
        "colab": {
          "base_uri": "https://localhost:8080/",
          "height": 445
        },
        "id": "edabd8e1",
        "outputId": "94c04f7d-85a6-4f1b-e29d-8140cb739d2c"
      },
      "source": [
        "df2 = grafico.codigo_capital('Dose 2')\n",
        "plt.figure(figsize=(35,18))\n",
        "plt.plot(df2['Dose 2'], label = 'DOSES CAPITAL', color = 'm', lw = '2')\n",
        "plt.legend(loc=2, fontsize=20)\n",
        "plt.ylabel('Total 2 Dose Capital',fontsize=20)\n",
        "plt.xlabel('TOTAL APLICAÇÕES',fontsize=15 )\n",
        "plt.title('Gráfico de Aplicação da 2 Dose por Capital', fontsize=20)\n",
        "plt.show()"
      ],
      "id": "edabd8e1",
      "execution_count": 37,
      "outputs": [
        {
          "output_type": "display_data",
          "data": {
            "image/png": "[encoded data removed]",
            "text/plain": [
              "<Figure size 2520x1296 with 1 Axes>"
            ]
          },
          "metadata": {
            "needs_background": "light"
          }
        }
      ]
    },
    {
      "cell_type": "markdown",
      "metadata": {
        "id": "4f18d409"
      },
      "source": [
        "GRÁFICO TOTAL APLICAÇÃO 2 DOSE POR CAPITAL"
      ],
      "id": "4f18d409"
    },
    {
      "cell_type": "code",
      "metadata": {
        "colab": {
          "base_uri": "https://localhost:8080/",
          "height": 444
        },
        "id": "6d14a962",
        "outputId": "6b0b236a-4214-4860-fcf2-9d8f8a7652a9"
      },
      "source": [
        "dose1_capital = grafico.codigo_capital('Dose 1')\n",
        "dose2_capital = grafico.codigo_capital('Dose 2')\n",
        "plt.figure(figsize=(35,18))\n",
        "plt.plot(dose1_capital['Dose 1'], label = 'DOSE 1', color = 'm',ls='--', lw = '2',marker='*')\n",
        "plt.plot(dose2_capital['Dose 2'], label = 'DOSE 2', color = 'k',ls='--', lw = '2',marker='^')\n",
        "plt.legend(loc=2, fontsize=20)\n",
        "plt.ylabel('Total 1 e 2 Dose por CAPITAL',fontsize=15)\n",
        "plt.xlabel('CAPITAIS',fontsize=15)\n",
        "plt.title('Gráfico de Aplicação da 1 e 2 Dose por CAPITAL',fontsize=15)\n",
        "plt.show()"
      ],
      "id": "6d14a962",
      "execution_count": 38,
      "outputs": [
        {
          "output_type": "display_data",
          "data": {
            "image/png": "[encoded data removed]",
            "text/plain": [
              "<Figure size 2520x1296 with 1 Axes>"
            ]
          },
          "metadata": {
            "needs_background": "light"
          }
        }
      ]
    },
    {
      "cell_type": "code",
      "metadata": {
        "scrolled": true,
        "colab": {
          "base_uri": "https://localhost:8080/",
          "height": 235
        },
        "id": "9bd716b3",
        "outputId": "0461a511-c861-463f-dbfc-9fef0a115e0f"
      },
      "source": [
        "display(grafico.regiao_doses(\"Dose 1\"))"
      ],
      "id": "9bd716b3",
      "execution_count": 39,
      "outputs": [
        {
          "output_type": "display_data",
          "data": {
            "text/html": [
              "<div>\n",
              "<style scoped>\n",
              "    .dataframe tbody tr th:only-of-type {\n",
              "        vertical-align: middle;\n",
              "    }\n",
              "\n",
              "    .dataframe tbody tr th {\n",
              "        vertical-align: top;\n",
              "    }\n",
              "\n",
              "    .dataframe thead th {\n",
              "        text-align: right;\n",
              "    }\n",
              "</style>\n",
              "<table border=\"1\" class=\"dataframe\">\n",
              "  <thead>\n",
              "    <tr style=\"text-align: right;\">\n",
              "      <th></th>\n",
              "      <th>Dose 1</th>\n",
              "    </tr>\n",
              "    <tr>\n",
              "      <th>Região</th>\n",
              "      <th></th>\n",
              "    </tr>\n",
              "  </thead>\n",
              "  <tbody>\n",
              "    <tr>\n",
              "      <th>Centro-Oeste</th>\n",
              "      <td>9803815</td>\n",
              "    </tr>\n",
              "    <tr>\n",
              "      <th>Nordeste</th>\n",
              "      <td>28799245</td>\n",
              "    </tr>\n",
              "    <tr>\n",
              "      <th>Norte</th>\n",
              "      <td>8795259</td>\n",
              "    </tr>\n",
              "    <tr>\n",
              "      <th>Sudeste</th>\n",
              "      <td>57764153</td>\n",
              "    </tr>\n",
              "    <tr>\n",
              "      <th>Sul</th>\n",
              "      <td>19629197</td>\n",
              "    </tr>\n",
              "  </tbody>\n",
              "</table>\n",
              "</div>"
            ],
            "text/plain": [
              "                Dose 1\n",
              "Região                \n",
              "Centro-Oeste   9803815\n",
              "Nordeste      28799245\n",
              "Norte          8795259\n",
              "Sudeste       57764153\n",
              "Sul           19629197"
            ]
          },
          "metadata": {}
        }
      ]
    },
    {
      "cell_type": "code",
      "metadata": {
        "colab": {
          "base_uri": "https://localhost:8080/",
          "height": 235
        },
        "id": "c72e77c4",
        "outputId": "5844861c-6d12-4d96-974c-f6309bef233f"
      },
      "source": [
        "display(grafico.regiao_doses(\"Dose 2\"))"
      ],
      "id": "c72e77c4",
      "execution_count": 40,
      "outputs": [
        {
          "output_type": "display_data",
          "data": {
            "text/html": [
              "<div>\n",
              "<style scoped>\n",
              "    .dataframe tbody tr th:only-of-type {\n",
              "        vertical-align: middle;\n",
              "    }\n",
              "\n",
              "    .dataframe tbody tr th {\n",
              "        vertical-align: top;\n",
              "    }\n",
              "\n",
              "    .dataframe thead th {\n",
              "        text-align: right;\n",
              "    }\n",
              "</style>\n",
              "<table border=\"1\" class=\"dataframe\">\n",
              "  <thead>\n",
              "    <tr style=\"text-align: right;\">\n",
              "      <th></th>\n",
              "      <th>Dose 2</th>\n",
              "    </tr>\n",
              "    <tr>\n",
              "      <th>Região</th>\n",
              "      <th></th>\n",
              "    </tr>\n",
              "  </thead>\n",
              "  <tbody>\n",
              "    <tr>\n",
              "      <th>Centro-Oeste</th>\n",
              "      <td>4039021</td>\n",
              "    </tr>\n",
              "    <tr>\n",
              "      <th>Nordeste</th>\n",
              "      <td>11547517</td>\n",
              "    </tr>\n",
              "    <tr>\n",
              "      <th>Norte</th>\n",
              "      <td>3175819</td>\n",
              "    </tr>\n",
              "    <tr>\n",
              "      <th>Sudeste</th>\n",
              "      <td>25969770</td>\n",
              "    </tr>\n",
              "    <tr>\n",
              "      <th>Sul</th>\n",
              "      <td>8724593</td>\n",
              "    </tr>\n",
              "  </tbody>\n",
              "</table>\n",
              "</div>"
            ],
            "text/plain": [
              "                Dose 2\n",
              "Região                \n",
              "Centro-Oeste   4039021\n",
              "Nordeste      11547517\n",
              "Norte          3175819\n",
              "Sudeste       25969770\n",
              "Sul            8724593"
            ]
          },
          "metadata": {}
        }
      ]
    },
    {
      "cell_type": "code",
      "metadata": {
        "colab": {
          "base_uri": "https://localhost:8080/",
          "height": 636
        },
        "id": "5f3646ae",
        "outputId": "16b1e684-54c1-425d-b92b-c47f858be2ce"
      },
      "source": [
        "dose1_regiao = grafico.regiao_doses(\"Dose 1\")\n",
        "dose2_regiao = grafico.regiao_doses(\"Dose 2\")\n",
        "plt.figure(figsize=(20,15))\n",
        "plt.plot(dose1_regiao['Dose 1'], label = 'DOSE 1 ', color = 'm',ls='--', lw = '2',marker='*')\n",
        "plt.plot(dose2_regiao['Dose 2'], label = 'DOSE 2 ', color = 'k',ls='--', lw = '2',marker='^')\n",
        "plt.legend(loc=2, fontsize=15)\n",
        "plt.ylabel('Total 1 e 2 Dose por Região',fontsize=15)\n",
        "plt.xlabel('Regiões',fontsize=15)\n",
        "plt.title('Gráfico de Aplicação da 1 e 2 Dose por Região',fontsize=15)\n",
        "plt.show()"
      ],
      "id": "5f3646ae",
      "execution_count": 41,
      "outputs": [
        {
          "output_type": "display_data",
          "data": {
            "image/png": "[encoded data removed]",
            "text/plain": [
              "<Figure size 1440x1080 with 1 Axes>"
            ]
          },
          "metadata": {
            "needs_background": "light"
          }
        }
      ]
    },
    {
      "cell_type": "markdown",
      "metadata": {
        "id": "0c6fcd76"
      },
      "source": [
        "df1 = pd.DataFrame(grafico.capitais(), columns = ['Capital','Dose 1'])\n",
        "df2 = pd.DataFrame(grafico.capitais(), columns = ['Capital','Dose 2'])\n",
        "\n",
        "plt.figure(figsize=(25,20))\n",
        "plt.plot(df1['Dose 1'],df1['Capital'], label = 'DOSE 1 CAPITAL', color = 'r',ls='--', lw = '3',marker='o')\n",
        "plt.plot(df2['Dose 2'],df2['Capital'], label = 'DOSE 2 CAPITAL', color = 'b',ls='--', lw = '3',marker='o')\n",
        "plt.legend(loc=2, fontsize=12)\n",
        "plt.ylabel('Total 1 e 2 Dose Capital',fontsize=20)\n",
        "plt.xlabel('TOTAL APLICAÇÕES',fontsize=15 )\n",
        "plt.title('Gráfico de Aplicação da 1 e 2 Dose por Capital', fontsize=20)\n",
        "\n",
        "plt.show()\n",
        "\n"
      ],
      "id": "0c6fcd76"
    },
    {
      "cell_type": "markdown",
      "metadata": {
        "id": "e6abd1ff"
      },
      "source": [
        "plt.figure(figsize=(30,30))\n",
        "plt.plot(df2['Dose 2'],df2['Capital'], label = 'DOSES CAPITAL', color = 'm', lw = '2')\n",
        "plt.legend(loc=2, fontsize=12)\n",
        "plt.ylabel('Total 2 Dose Capital')\n",
        "plt.xlabel('Capitais')\n",
        "plt.title('Gráfico de Aplicação da 2 Dose por Capital')\n",
        "plt.show()"
      ],
      "id": "e6abd1ff"
    },
    {
      "cell_type": "markdown",
      "metadata": {
        "id": "ccb6b25c"
      },
      "source": [
        "df2 = pd.DataFrame(grafico.capitais(), columns = ['Capital','Dose 2'])\n",
        "\n",
        "display(df2)"
      ],
      "id": "ccb6b25c"
    },
    {
      "cell_type": "markdown",
      "metadata": {
        "id": "5f94e88d"
      },
      "source": [
        "df1 = pd.DataFrame(grafico.capitais(), columns = ['Capital','Dose 1'])\n",
        "\n",
        "display(df1)"
      ],
      "id": "5f94e88d"
    },
    {
      "cell_type": "markdown",
      "metadata": {
        "id": "a660975b"
      },
      "source": [
        " def codigo_capital(self, dose):\n",
        "        codigo_capital = [110020,130260,120040,500270,160030,530010,140010,510340,172100,355030,221100,330455,150140,520870,292740,420540,\n",
        "                 211130,270430,431490,410690,310620,230440,261160,250750,280030,240810,320530]\n",
        "        \n",
        "        capital = self.__dado[self.__dado['Cód. IBGE'].isin(codigo_capital)]\n",
        "\n",
        "        capital = capital[['Município', dose]].groupby(['Município']).sum()\n",
        "        return capital\n",
        "    \n",
        "    def capitais(self, municipio):\n",
        "        codigo_capital = [110020,130260,120040,500270,160030,530010,140010,510340,172100,355030,221100,330455,150140,520870,292740,420540,\n",
        "                 211130,270430,431490,410690,310620,230440,261160,250750,280030,240810,320530]\n",
        "        \n",
        "        capital = self.__dado[self.__dado['Cód. IBGE'].isin(codigo_capital)]\n",
        "        capital = capital[['Município']].groupby([municipio]).sum()\n",
        "        return capital"
      ],
      "id": "a660975b"
    }
  ]
}